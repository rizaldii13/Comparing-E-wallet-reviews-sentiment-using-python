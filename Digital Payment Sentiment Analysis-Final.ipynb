{
 "cells": [
  {
   "cell_type": "code",
   "execution_count": 1,
   "metadata": {},
   "outputs": [
    {
     "name": "stdout",
     "output_type": "stream",
     "text": [
      "Requirement already satisfied: Sastrawi in c:\\users\\legion\\anaconda3\\lib\\site-packages (1.0.1)\n",
      "Requirement already satisfied: wordcloud in c:\\users\\legion\\anaconda3\\lib\\site-packages (1.8.1)\n",
      "Requirement already satisfied: numpy>=1.6.1 in c:\\users\\legion\\anaconda3\\lib\\site-packages (from wordcloud) (1.19.2)\n",
      "Requirement already satisfied: matplotlib in c:\\users\\legion\\anaconda3\\lib\\site-packages (from wordcloud) (3.3.2)\n",
      "Requirement already satisfied: pillow in c:\\users\\legion\\anaconda3\\lib\\site-packages (from wordcloud) (8.0.1)\n",
      "Requirement already satisfied: cycler>=0.10 in c:\\users\\legion\\anaconda3\\lib\\site-packages (from matplotlib->wordcloud) (0.10.0)\n",
      "Requirement already satisfied: certifi>=2020.06.20 in c:\\users\\legion\\anaconda3\\lib\\site-packages (from matplotlib->wordcloud) (2020.6.20)\n",
      "Requirement already satisfied: kiwisolver>=1.0.1 in c:\\users\\legion\\anaconda3\\lib\\site-packages (from matplotlib->wordcloud) (1.3.0)\n",
      "Requirement already satisfied: pyparsing!=2.0.4,!=2.1.2,!=2.1.6,>=2.0.3 in c:\\users\\legion\\anaconda3\\lib\\site-packages (from matplotlib->wordcloud) (2.4.7)\n",
      "Requirement already satisfied: python-dateutil>=2.1 in c:\\users\\legion\\anaconda3\\lib\\site-packages (from matplotlib->wordcloud) (2.8.1)\n",
      "Requirement already satisfied: six in c:\\users\\legion\\anaconda3\\lib\\site-packages (from cycler>=0.10->matplotlib->wordcloud) (1.15.0)\n",
      "Requirement already satisfied: gensim in c:\\users\\legion\\anaconda3\\lib\\site-packages (4.2.0)\n",
      "Requirement already satisfied: scipy>=0.18.1 in c:\\users\\legion\\anaconda3\\lib\\site-packages (from gensim) (1.5.2)\n",
      "Requirement already satisfied: numpy>=1.17.0 in c:\\users\\legion\\anaconda3\\lib\\site-packages (from gensim) (1.19.2)\n",
      "Requirement already satisfied: Cython==0.29.28 in c:\\users\\legion\\anaconda3\\lib\\site-packages (from gensim) (0.29.28)\n",
      "Requirement already satisfied: smart-open>=1.8.1 in c:\\users\\legion\\anaconda3\\lib\\site-packages (from gensim) (5.2.1)\n",
      "Requirement already satisfied: spacy in c:\\users\\legion\\anaconda3\\lib\\site-packages (3.3.0)\n",
      "Requirement already satisfied: catalogue<2.1.0,>=2.0.6 in c:\\users\\legion\\anaconda3\\lib\\site-packages (from spacy) (2.0.7)\n",
      "Requirement already satisfied: wasabi<1.1.0,>=0.9.1 in c:\\users\\legion\\anaconda3\\lib\\site-packages (from spacy) (0.9.1)\n",
      "Requirement already satisfied: blis<0.8.0,>=0.4.0 in c:\\users\\legion\\anaconda3\\lib\\site-packages (from spacy) (0.7.7)\n",
      "Requirement already satisfied: tqdm<5.0.0,>=4.38.0 in c:\\users\\legion\\anaconda3\\lib\\site-packages (from spacy) (4.50.2)\n",
      "Requirement already satisfied: typer<0.5.0,>=0.3.0 in c:\\users\\legion\\anaconda3\\lib\\site-packages (from spacy) (0.4.1)\n",
      "Requirement already satisfied: requests<3.0.0,>=2.13.0 in c:\\users\\legion\\anaconda3\\lib\\site-packages (from spacy) (2.23.0)\n",
      "Requirement already satisfied: spacy-loggers<2.0.0,>=1.0.0 in c:\\users\\legion\\anaconda3\\lib\\site-packages (from spacy) (1.0.2)\n",
      "Requirement already satisfied: preshed<3.1.0,>=3.0.2 in c:\\users\\legion\\anaconda3\\lib\\site-packages (from spacy) (3.0.6)\n",
      "Requirement already satisfied: spacy-legacy<3.1.0,>=3.0.9 in c:\\users\\legion\\anaconda3\\lib\\site-packages (from spacy) (3.0.9)\n",
      "Requirement already satisfied: packaging>=20.0 in c:\\users\\legion\\anaconda3\\lib\\site-packages (from spacy) (20.4)\n",
      "Requirement already satisfied: langcodes<4.0.0,>=3.2.0 in c:\\users\\legion\\anaconda3\\lib\\site-packages (from spacy) (3.3.0)\n",
      "Requirement already satisfied: murmurhash<1.1.0,>=0.28.0 in c:\\users\\legion\\anaconda3\\lib\\site-packages (from spacy) (1.0.7)\n",
      "Requirement already satisfied: jinja2 in c:\\users\\legion\\anaconda3\\lib\\site-packages (from spacy) (2.11.2)\n",
      "Requirement already satisfied: setuptools in c:\\users\\legion\\anaconda3\\lib\\site-packages (from spacy) (50.3.1.post20201107)\n",
      "Requirement already satisfied: srsly<3.0.0,>=2.4.3 in c:\\users\\legion\\anaconda3\\lib\\site-packages (from spacy) (2.4.3)\n",
      "Requirement already satisfied: pathy>=0.3.5 in c:\\users\\legion\\anaconda3\\lib\\site-packages (from spacy) (0.6.1)\n",
      "Requirement already satisfied: pydantic!=1.8,!=1.8.1,<1.9.0,>=1.7.4 in c:\\users\\legion\\anaconda3\\lib\\site-packages (from spacy) (1.8.2)\n",
      "Requirement already satisfied: thinc<8.1.0,>=8.0.14 in c:\\users\\legion\\anaconda3\\lib\\site-packages (from spacy) (8.0.16)\n",
      "Requirement already satisfied: numpy>=1.15.0 in c:\\users\\legion\\anaconda3\\lib\\site-packages (from spacy) (1.19.2)\n",
      "Requirement already satisfied: cymem<2.1.0,>=2.0.2 in c:\\users\\legion\\anaconda3\\lib\\site-packages (from spacy) (2.0.6)\n",
      "Requirement already satisfied: click<9.0.0,>=7.1.1 in c:\\users\\legion\\anaconda3\\lib\\site-packages (from typer<0.5.0,>=0.3.0->spacy) (7.1.2)\n",
      "Requirement already satisfied: chardet<4,>=3.0.2 in c:\\users\\legion\\anaconda3\\lib\\site-packages (from requests<3.0.0,>=2.13.0->spacy) (3.0.4)\n",
      "Requirement already satisfied: urllib3!=1.25.0,!=1.25.1,<1.26,>=1.21.1 in c:\\users\\legion\\anaconda3\\lib\\site-packages (from requests<3.0.0,>=2.13.0->spacy) (1.25.11)\n",
      "Requirement already satisfied: certifi>=2017.4.17 in c:\\users\\legion\\anaconda3\\lib\\site-packages (from requests<3.0.0,>=2.13.0->spacy) (2020.6.20)\n",
      "Requirement already satisfied: idna<3,>=2.5 in c:\\users\\legion\\anaconda3\\lib\\site-packages (from requests<3.0.0,>=2.13.0->spacy) (2.10)\n",
      "Requirement already satisfied: six in c:\\users\\legion\\anaconda3\\lib\\site-packages (from packaging>=20.0->spacy) (1.15.0)\n",
      "Requirement already satisfied: pyparsing>=2.0.2 in c:\\users\\legion\\anaconda3\\lib\\site-packages (from packaging>=20.0->spacy) (2.4.7)\n",
      "Requirement already satisfied: MarkupSafe>=0.23 in c:\\users\\legion\\anaconda3\\lib\\site-packages (from jinja2->spacy) (1.1.1)\n",
      "Requirement already satisfied: smart-open<6.0.0,>=5.0.0 in c:\\users\\legion\\anaconda3\\lib\\site-packages (from pathy>=0.3.5->spacy) (5.2.1)\n",
      "Requirement already satisfied: typing-extensions>=3.7.4.3 in c:\\users\\legion\\anaconda3\\lib\\site-packages (from pydantic!=1.8,!=1.8.1,<1.9.0,>=1.7.4->spacy) (3.7.4.3)\n"
     ]
    }
   ],
   "source": [
    "!pip install Sastrawi\n",
    "!pip3 install wordcloud\n",
    "!pip3 install gensim\n",
    "!pip install spacy"
   ]
  },
  {
   "cell_type": "code",
   "execution_count": 2,
   "metadata": {},
   "outputs": [
    {
     "name": "stderr",
     "output_type": "stream",
     "text": [
      "[nltk_data] Downloading package punkt to\n",
      "[nltk_data]     C:\\Users\\LEGION\\AppData\\Roaming\\nltk_data...\n",
      "[nltk_data]   Package punkt is already up-to-date!\n"
     ]
    }
   ],
   "source": [
    "import re\n",
    "import csv\n",
    "import matplotlib.pyplot as plt\n",
    "from nltk.corpus import stopwords\n",
    "import nltk\n",
    "from nltk.corpus import wordnet\n",
    "from nltk.stem import WordNetLemmatizer\n",
    "from nltk.tokenize.treebank import TreebankWordDetokenizer\n",
    "from collections import Counter\n",
    "from wordcloud import WordCloud\n",
    "from nltk.corpus import stopwords\n",
    "import nltk\n",
    "nltk.download('punkt')\n",
    "import gensim\n",
    "from gensim.utils import simple_preprocess\n",
    "from nltk.corpus import stopwords\n",
    "from sklearn.model_selection import train_test_split\n",
    "import spacy\n",
    "import pickle\n",
    "import warnings\n",
    "warnings.filterwarnings('ignore')\n",
    "import seaborn as sns\n",
    "from sklearn.metrics import confusion_matrix\n",
    "import tensorflow as tf\n",
    "import keras\n",
    "import numpy as np\n",
    "import pandas as pd\n",
    "import string\n",
    "from nltk.tokenize import word_tokenize\n",
    "from Sastrawi.StopWordRemover.StopWordRemoverFactory import StopWordRemoverFactory\n",
    "from Sastrawi.Stemmer.StemmerFactory import StemmerFactory\n",
    "from tqdm.notebook import tqdm\n",
    "from sklearn.feature_extraction.text import TfidfVectorizer\n",
    "from sklearn.cluster import KMeans\n",
    "from sklearn.metrics import adjusted_rand_score"
   ]
  },
  {
   "cell_type": "code",
   "execution_count": 3,
   "metadata": {},
   "outputs": [],
   "source": [
    "tqdm.pandas()"
   ]
  },
  {
   "cell_type": "markdown",
   "metadata": {},
   "source": [
    "## Data Cleaning and Preprocessing (some of the cleaning and preprocessing have been done to the dataset so not every function here is used)"
   ]
  },
  {
   "cell_type": "code",
   "execution_count": 6,
   "metadata": {},
   "outputs": [],
   "source": [
    "def remove_special_character(text):\n",
    "    text = text.replace('\\\\t',\" \").replace('\\\\n',\" \").replace('\\\\u',\" \").replace('\\\\',\"\")\n",
    "    text = text.encode('ascii', 'replace').decode('ascii')\n",
    "    text = ' '.join(re.sub(\"([@#][A-Za-z0-9]+)|(\\w+:\\/\\/\\S+)\",\" \", text).split())\n",
    "    return text.replace(\"http://\", \" \").replace(\"https://\", \" \")"
   ]
  },
  {
   "cell_type": "code",
   "execution_count": 7,
   "metadata": {},
   "outputs": [],
   "source": [
    "def remove_number(text):\n",
    "    return  re.sub(r\"\\d+\", \"\", text)"
   ]
  },
  {
   "cell_type": "code",
   "execution_count": 8,
   "metadata": {},
   "outputs": [],
   "source": [
    "def remove_punctuation(text):\n",
    "    return text.translate(str.maketrans(\"\",\"\",string.punctuation))"
   ]
  },
  {
   "cell_type": "code",
   "execution_count": 9,
   "metadata": {},
   "outputs": [],
   "source": [
    "def remove_whitespace(text):\n",
    "    txt = text.strip()\n",
    "    return re.sub('\\s+',' ',txt)"
   ]
  },
  {
   "cell_type": "code",
   "execution_count": 10,
   "metadata": {},
   "outputs": [],
   "source": [
    "def remove_singl_char(text):\n",
    "    return re.sub(r\"\\b[a-zA-Z]\\b\", \"\", text)"
   ]
  },
  {
   "cell_type": "code",
   "execution_count": 11,
   "metadata": {},
   "outputs": [],
   "source": [
    "factory = StopWordRemoverFactory()\n",
    "stopword = factory.create_stop_word_remover()\n",
    "\n",
    "def stopwords_removal(text):\n",
    "    return stopword.remove(text)"
   ]
  },
  {
   "cell_type": "code",
   "execution_count": 12,
   "metadata": {},
   "outputs": [],
   "source": [
    "def stemmingText(text):\n",
    "    factory = StemmerFactory()\n",
    "    stemmer = factory.create_stemmer()\n",
    "    text = stemmer.stem(text)\n",
    "    return text"
   ]
  },
  {
   "cell_type": "code",
   "execution_count": 13,
   "metadata": {},
   "outputs": [],
   "source": [
    "def preprocess (data):\n",
    "    data = data.lower()\n",
    "    data = remove_special_character(data)\n",
    "    data = remove_number(data)\n",
    "    data = remove_punctuation(data)\n",
    "    data = remove_whitespace (data)\n",
    "    data = remove_singl_char(data)\n",
    "    data = stopwords_removal(data)\n",
    "    data = stemmingText(data)\n",
    "        \n",
    "    return data"
   ]
  },
  {
   "cell_type": "code",
   "execution_count": 14,
   "metadata": {},
   "outputs": [],
   "source": [
    "def tokenizingText(text): # Tokenizing or splitting a string, text into a list of tokens\n",
    "    text = word_tokenize(text) \n",
    "    return text"
   ]
  },
  {
   "cell_type": "code",
   "execution_count": 15,
   "metadata": {},
   "outputs": [],
   "source": [
    "def toSentence(list_words): # Convert list of words into sentence\n",
    "    sentence = ' '.join(word for word in list_words)\n",
    "    return sentence"
   ]
  },
  {
   "cell_type": "code",
   "execution_count": 16,
   "metadata": {},
   "outputs": [],
   "source": [
    "df = pd.read_csv('data_labelled_lexicon.csv')"
   ]
  },
  {
   "cell_type": "code",
   "execution_count": 17,
   "metadata": {},
   "outputs": [],
   "source": [
    "df['review'] = df['review'].astype(str)"
   ]
  },
  {
   "cell_type": "code",
   "execution_count": 18,
   "metadata": {},
   "outputs": [],
   "source": [
    "df = df.filter(['date','review','rating','dataset','sentiment','words','polarity','polarity_score'],axis = 1)"
   ]
  },
  {
   "cell_type": "code",
   "execution_count": 19,
   "metadata": {},
   "outputs": [],
   "source": [
    "contractions = { \n",
    "\"tranfer\" : \"transfer\",\n",
    "\"tf\":\"transfer\"}"
   ]
  },
  {
   "cell_type": "code",
   "execution_count": 20,
   "metadata": {},
   "outputs": [],
   "source": [
    "def cont_to_exp(x):\n",
    "     if type(x) is str:\n",
    "        x = x.replace('\\\\', '')\n",
    "        for key in contractions:\n",
    "            value = contractions[key]\n",
    "            x = x.replace(key, value)\n",
    "        return x\n",
    "     else:\n",
    "        return x"
   ]
  },
  {
   "cell_type": "code",
   "execution_count": 21,
   "metadata": {},
   "outputs": [],
   "source": [
    "df['review'] = df['review'].apply(lambda x: cont_to_exp(x))"
   ]
  },
  {
   "cell_type": "code",
   "execution_count": 22,
   "metadata": {},
   "outputs": [
    {
     "data": {
      "text/plain": [
       "0        susah kali top up alfamart selalu jaring repot...\n",
       "1        dong transfer rekening pribadi sendiri lapor h...\n",
       "2        alow danakenapa email masuk atas nama ptesbiyd...\n",
       "3                                           sip dahhhh min\n",
       "4            login kali login tanya hubung customer servis\n",
       "                               ...                        \n",
       "25611                 ga transfer semua bank sangat kecewa\n",
       "25612    baik login selalu gagal hapus trus donwload ul...\n",
       "25613                                          kurang puas\n",
       "25614    jangan pakai ovo layan masalah sangat lelet gu...\n",
       "25615       udah lama gak gunain mau transfer aja parah si\n",
       "Name: review, Length: 25616, dtype: object"
      ]
     },
     "execution_count": 22,
     "metadata": {},
     "output_type": "execute_result"
    }
   ],
   "source": [
    "df['review']"
   ]
  },
  {
   "cell_type": "code",
   "execution_count": 23,
   "metadata": {
    "scrolled": true
   },
   "outputs": [],
   "source": [
    "def manualstop(text):\n",
    "    listStopwords = ['dahhhh','yg','gk','udah','kok','udh','apa','ga','jadi','kalau','lebih','sama','aja','gitu','kayak','orang','gak','nya','bagu','apa','yg','udh','udah']\n",
    "    filtered = []\n",
    "    for txt in text:\n",
    "        if txt not in listStopwords:\n",
    "            filtered.append(txt)\n",
    "    text = filtered \n",
    "    return text"
   ]
  },
  {
   "cell_type": "code",
   "execution_count": 24,
   "metadata": {},
   "outputs": [],
   "source": [
    "df['words'] = df['words'].apply(manualstop)"
   ]
  },
  {
   "cell_type": "code",
   "execution_count": 25,
   "metadata": {},
   "outputs": [],
   "source": [
    "df['words'] = df['review'].apply(word_tokenize)"
   ]
  },
  {
   "cell_type": "code",
   "execution_count": 26,
   "metadata": {},
   "outputs": [],
   "source": [
    "df['review'] = df['words'].apply(toSentence)"
   ]
  },
  {
   "cell_type": "code",
   "execution_count": 27,
   "metadata": {},
   "outputs": [],
   "source": [
    "temp = []\n",
    "data_to_list = df['review'].values.tolist()\n",
    "for i in range(len(data_to_list)):\n",
    "    temp.append(data_to_list[i])"
   ]
  },
  {
   "cell_type": "code",
   "execution_count": 28,
   "metadata": {},
   "outputs": [],
   "source": [
    "data_list = np.array(data_to_list)"
   ]
  },
  {
   "cell_type": "code",
   "execution_count": 29,
   "metadata": {},
   "outputs": [],
   "source": [
    "#Label Encoding\n",
    "labels = np.array(df['sentiment'])\n",
    "y = []\n",
    "for i in range(len(labels)):\n",
    "    if labels[i] == 0:\n",
    "        y.append(0)\n",
    "    if labels[i] == 1:\n",
    "        y.append(1)\n",
    "    if labels[i] == 2:\n",
    "        y.append(2)\n",
    "\n",
    "y = np.array(y)\n",
    "labels = tf.keras.utils.to_categorical(y, 3, dtype=\"float32\")\n",
    "del y"
   ]
  },
  {
   "cell_type": "code",
   "execution_count": 30,
   "metadata": {},
   "outputs": [
    {
     "name": "stdout",
     "output_type": "stream",
     "text": [
      "[[   0    0    0 ...  324  573  170]\n",
      " [   0    0    0 ...   35  972  265]\n",
      " [   0    0    0 ...   62 1612    2]\n",
      " ...\n",
      " [   0    0    0 ...    0   98  266]\n",
      " [   0    0    0 ...   98  390   80]\n",
      " [   0    0    0 ...   10  113  241]]\n"
     ]
    }
   ],
   "source": [
    "#Data Tokenizing\n",
    "from keras.models import Sequential\n",
    "from keras import layers\n",
    "from tensorflow.keras.optimizers import RMSprop,Adam\n",
    "from keras.preprocessing.text import Tokenizer\n",
    "from keras.preprocessing.sequence import pad_sequences\n",
    "from keras import regularizers\n",
    "from keras import backend as K\n",
    "from keras.callbacks import ModelCheckpoint\n",
    "max_words = 5000\n",
    "max_len = 200\n",
    "\n",
    "tokenizer = Tokenizer(num_words=max_words)\n",
    "tokenizer.fit_on_texts(data_list)\n",
    "sequences = tokenizer.texts_to_sequences(data_list)\n",
    "review = pad_sequences(sequences, maxlen=max_len)\n",
    "print(review)"
   ]
  },
  {
   "cell_type": "code",
   "execution_count": 31,
   "metadata": {},
   "outputs": [
    {
     "name": "stdout",
     "output_type": "stream",
     "text": [
      "[[1. 0. 0.]\n",
      " [1. 0. 0.]\n",
      " [1. 0. 0.]\n",
      " ...\n",
      " [1. 0. 0.]\n",
      " [1. 0. 0.]\n",
      " [1. 0. 0.]]\n"
     ]
    }
   ],
   "source": [
    "print(labels)"
   ]
  },
  {
   "cell_type": "code",
   "execution_count": 32,
   "metadata": {},
   "outputs": [
    {
     "name": "stdout",
     "output_type": "stream",
     "text": [
      "19212 6404 19212 6404\n"
     ]
    }
   ],
   "source": [
    "X_train, X_test, y_train, y_test = train_test_split(review,labels, random_state=0)\n",
    "print (len(X_train),len(X_test),len(y_train),len(y_test))"
   ]
  },
  {
   "cell_type": "markdown",
   "metadata": {},
   "source": [
    "## Model 1 (Sentiment labelled using review rating)"
   ]
  },
  {
   "cell_type": "code",
   "execution_count": 33,
   "metadata": {},
   "outputs": [
    {
     "name": "stdout",
     "output_type": "stream",
     "text": [
      "WARNING:tensorflow:`period` argument is deprecated. Please use `save_freq` to specify the frequency in number of batches seen.\n",
      "Epoch 1/50\n",
      "601/601 [==============================] - ETA: 0s - loss: 0.7285 - accuracy: 0.7200\n",
      "Epoch 00001: val_loss improved from inf to 0.58905, saving model to model1.hdf5\n",
      "601/601 [==============================] - 26s 40ms/step - loss: 0.7285 - accuracy: 0.7200 - val_loss: 0.5890 - val_accuracy: 0.7917\n",
      "Epoch 2/50\n",
      "601/601 [==============================] - ETA: 0s - loss: 0.5448 - accuracy: 0.8087\n",
      "Epoch 00002: val_loss improved from 0.58905 to 0.54967, saving model to model1.hdf5\n",
      "601/601 [==============================] - 24s 39ms/step - loss: 0.5448 - accuracy: 0.8087 - val_loss: 0.5497 - val_accuracy: 0.8037\n",
      "Epoch 3/50\n",
      "601/601 [==============================] - ETA: 0s - loss: 0.4935 - accuracy: 0.8260\n",
      "Epoch 00003: val_loss improved from 0.54967 to 0.54065, saving model to model1.hdf5\n",
      "601/601 [==============================] - 24s 39ms/step - loss: 0.4935 - accuracy: 0.8260 - val_loss: 0.5407 - val_accuracy: 0.8081\n",
      "Epoch 4/50\n",
      "601/601 [==============================] - ETA: 0s - loss: 0.4676 - accuracy: 0.8327\n",
      "Epoch 00004: val_loss did not improve from 0.54065\n",
      "601/601 [==============================] - 24s 40ms/step - loss: 0.4676 - accuracy: 0.8327 - val_loss: 0.5507 - val_accuracy: 0.8054\n",
      "Epoch 5/50\n",
      "601/601 [==============================] - ETA: 0s - loss: 0.4480 - accuracy: 0.8380\n",
      "Epoch 00005: val_loss did not improve from 0.54065\n",
      "601/601 [==============================] - 24s 40ms/step - loss: 0.4480 - accuracy: 0.8380 - val_loss: 0.5462 - val_accuracy: 0.8072\n",
      "Epoch 6/50\n",
      "601/601 [==============================] - ETA: 0s - loss: 0.4298 - accuracy: 0.8453\n",
      "Epoch 00006: val_loss did not improve from 0.54065\n",
      "601/601 [==============================] - 23s 39ms/step - loss: 0.4298 - accuracy: 0.8453 - val_loss: 0.5574 - val_accuracy: 0.8075\n",
      "Epoch 7/50\n",
      "601/601 [==============================] - ETA: 0s - loss: 0.4211 - accuracy: 0.8476\n",
      "Epoch 00007: val_loss did not improve from 0.54065\n",
      "601/601 [==============================] - 23s 39ms/step - loss: 0.4211 - accuracy: 0.8476 - val_loss: 0.5591 - val_accuracy: 0.8062\n",
      "Epoch 8/50\n",
      "601/601 [==============================] - ETA: 0s - loss: 0.4072 - accuracy: 0.8551\n",
      "Epoch 00008: val_loss did not improve from 0.54065\n",
      "601/601 [==============================] - 24s 39ms/step - loss: 0.4072 - accuracy: 0.8551 - val_loss: 0.5682 - val_accuracy: 0.8118\n",
      "Epoch 9/50\n",
      "600/601 [============================>.] - ETA: 0s - loss: 0.3993 - accuracy: 0.8553\n",
      "Epoch 00009: val_loss did not improve from 0.54065\n",
      "601/601 [==============================] - 24s 40ms/step - loss: 0.3993 - accuracy: 0.8553 - val_loss: 0.5676 - val_accuracy: 0.8076\n",
      "Epoch 10/50\n",
      "601/601 [==============================] - ETA: 0s - loss: 0.3923 - accuracy: 0.8588\n",
      "Epoch 00010: val_loss did not improve from 0.54065\n",
      "601/601 [==============================] - 25s 41ms/step - loss: 0.3923 - accuracy: 0.8588 - val_loss: 0.5917 - val_accuracy: 0.8032\n",
      "Epoch 11/50\n",
      "601/601 [==============================] - ETA: 0s - loss: 0.3848 - accuracy: 0.8609\n",
      "Epoch 00011: val_loss did not improve from 0.54065\n",
      "601/601 [==============================] - 23s 39ms/step - loss: 0.3848 - accuracy: 0.8609 - val_loss: 0.5911 - val_accuracy: 0.8067\n",
      "Epoch 12/50\n",
      "600/601 [============================>.] - ETA: 0s - loss: 0.3795 - accuracy: 0.8603\n",
      "Epoch 00012: val_loss did not improve from 0.54065\n",
      "601/601 [==============================] - 25s 41ms/step - loss: 0.3795 - accuracy: 0.8602 - val_loss: 0.6038 - val_accuracy: 0.8006\n",
      "Epoch 13/50\n",
      "600/601 [============================>.] - ETA: 0s - loss: 0.3728 - accuracy: 0.8648\n",
      "Epoch 00013: val_loss did not improve from 0.54065\n",
      "601/601 [==============================] - 25s 41ms/step - loss: 0.3727 - accuracy: 0.8649 - val_loss: 0.6121 - val_accuracy: 0.8068\n",
      "Epoch 14/50\n",
      "601/601 [==============================] - ETA: 0s - loss: 0.3665 - accuracy: 0.8660\n",
      "Epoch 00014: val_loss did not improve from 0.54065\n",
      "601/601 [==============================] - 26s 43ms/step - loss: 0.3665 - accuracy: 0.8660 - val_loss: 0.6045 - val_accuracy: 0.8037\n",
      "Epoch 15/50\n",
      "601/601 [==============================] - ETA: 0s - loss: 0.3657 - accuracy: 0.8669\n",
      "Epoch 00015: val_loss did not improve from 0.54065\n",
      "601/601 [==============================] - 25s 41ms/step - loss: 0.3657 - accuracy: 0.8669 - val_loss: 0.6130 - val_accuracy: 0.7983\n",
      "Epoch 16/50\n",
      "601/601 [==============================] - ETA: 0s - loss: 0.3598 - accuracy: 0.8713\n",
      "Epoch 00016: val_loss did not improve from 0.54065\n",
      "601/601 [==============================] - 25s 42ms/step - loss: 0.3598 - accuracy: 0.8713 - val_loss: 0.6178 - val_accuracy: 0.7978\n",
      "Epoch 17/50\n",
      "601/601 [==============================] - ETA: 0s - loss: 0.3547 - accuracy: 0.8716\n",
      "Epoch 00017: val_loss did not improve from 0.54065\n",
      "601/601 [==============================] - 25s 42ms/step - loss: 0.3547 - accuracy: 0.8716 - val_loss: 0.6437 - val_accuracy: 0.8020\n",
      "Epoch 18/50\n",
      "601/601 [==============================] - ETA: 0s - loss: 0.3490 - accuracy: 0.8716\n",
      "Epoch 00018: val_loss did not improve from 0.54065\n",
      "601/601 [==============================] - 24s 40ms/step - loss: 0.3490 - accuracy: 0.8716 - val_loss: 0.6353 - val_accuracy: 0.7979\n",
      "Epoch 19/50\n",
      "601/601 [==============================] - ETA: 0s - loss: 0.3519 - accuracy: 0.8709\n",
      "Epoch 00019: val_loss did not improve from 0.54065\n",
      "601/601 [==============================] - 25s 41ms/step - loss: 0.3519 - accuracy: 0.8709 - val_loss: 0.6399 - val_accuracy: 0.7979\n",
      "Epoch 20/50\n",
      "601/601 [==============================] - ETA: 0s - loss: 0.3471 - accuracy: 0.8704\n",
      "Epoch 00020: val_loss did not improve from 0.54065\n",
      "601/601 [==============================] - 25s 41ms/step - loss: 0.3471 - accuracy: 0.8704 - val_loss: 0.6515 - val_accuracy: 0.7970\n",
      "Epoch 21/50\n",
      "601/601 [==============================] - ETA: 0s - loss: 0.3436 - accuracy: 0.8748\n",
      "Epoch 00021: val_loss did not improve from 0.54065\n",
      "601/601 [==============================] - 23s 38ms/step - loss: 0.3436 - accuracy: 0.8748 - val_loss: 0.6414 - val_accuracy: 0.8031\n",
      "Epoch 22/50\n",
      "601/601 [==============================] - ETA: 0s - loss: 0.3406 - accuracy: 0.8745\n",
      "Epoch 00022: val_loss did not improve from 0.54065\n",
      "601/601 [==============================] - 23s 38ms/step - loss: 0.3406 - accuracy: 0.8745 - val_loss: 0.6551 - val_accuracy: 0.8009\n",
      "Epoch 23/50\n",
      "601/601 [==============================] - ETA: 0s - loss: 0.3354 - accuracy: 0.8773\n",
      "Epoch 00023: val_loss did not improve from 0.54065\n",
      "601/601 [==============================] - 23s 38ms/step - loss: 0.3354 - accuracy: 0.8773 - val_loss: 0.6550 - val_accuracy: 0.7923\n",
      "Epoch 24/50\n",
      "601/601 [==============================] - ETA: 0s - loss: 0.3335 - accuracy: 0.8787\n",
      "Epoch 00024: val_loss did not improve from 0.54065\n",
      "601/601 [==============================] - 23s 38ms/step - loss: 0.3335 - accuracy: 0.8787 - val_loss: 0.6631 - val_accuracy: 0.8007\n",
      "Epoch 25/50\n",
      "601/601 [==============================] - ETA: 0s - loss: 0.3278 - accuracy: 0.8798\n",
      "Epoch 00025: val_loss did not improve from 0.54065\n",
      "601/601 [==============================] - 24s 39ms/step - loss: 0.3278 - accuracy: 0.8798 - val_loss: 0.6741 - val_accuracy: 0.7993\n",
      "Epoch 26/50\n",
      "601/601 [==============================] - ETA: 0s - loss: 0.3274 - accuracy: 0.8804\n",
      "Epoch 00026: val_loss did not improve from 0.54065\n",
      "601/601 [==============================] - 23s 38ms/step - loss: 0.3274 - accuracy: 0.8804 - val_loss: 0.6743 - val_accuracy: 0.7936\n",
      "Epoch 27/50\n",
      "600/601 [============================>.] - ETA: 0s - loss: 0.3247 - accuracy: 0.8805\n",
      "Epoch 00027: val_loss did not improve from 0.54065\n",
      "601/601 [==============================] - 24s 39ms/step - loss: 0.3246 - accuracy: 0.8805 - val_loss: 0.6837 - val_accuracy: 0.8026\n",
      "Epoch 28/50\n",
      "601/601 [==============================] - ETA: 0s - loss: 0.3234 - accuracy: 0.8819\n",
      "Epoch 00028: val_loss did not improve from 0.54065\n",
      "601/601 [==============================] - 24s 41ms/step - loss: 0.3234 - accuracy: 0.8819 - val_loss: 0.6759 - val_accuracy: 0.7945\n",
      "Epoch 29/50\n",
      "600/601 [============================>.] - ETA: 0s - loss: 0.3178 - accuracy: 0.8853\n",
      "Epoch 00029: val_loss did not improve from 0.54065\n",
      "601/601 [==============================] - 24s 40ms/step - loss: 0.3177 - accuracy: 0.8854 - val_loss: 0.6931 - val_accuracy: 0.7951\n",
      "Epoch 30/50\n",
      "601/601 [==============================] - ETA: 0s - loss: 0.3171 - accuracy: 0.8851\n",
      "Epoch 00030: val_loss did not improve from 0.54065\n",
      "601/601 [==============================] - 23s 39ms/step - loss: 0.3171 - accuracy: 0.8851 - val_loss: 0.6988 - val_accuracy: 0.7959\n",
      "Epoch 31/50\n",
      "601/601 [==============================] - ETA: 0s - loss: 0.3116 - accuracy: 0.8865\n",
      "Epoch 00031: val_loss did not improve from 0.54065\n",
      "601/601 [==============================] - 24s 39ms/step - loss: 0.3116 - accuracy: 0.8865 - val_loss: 0.7034 - val_accuracy: 0.7950\n",
      "Epoch 32/50\n",
      "601/601 [==============================] - ETA: 0s - loss: 0.3168 - accuracy: 0.8843\n",
      "Epoch 00032: val_loss did not improve from 0.54065\n",
      "601/601 [==============================] - 24s 41ms/step - loss: 0.3168 - accuracy: 0.8843 - val_loss: 0.6974 - val_accuracy: 0.7993\n",
      "Epoch 33/50\n",
      "600/601 [============================>.] - ETA: 0s - loss: 0.3148 - accuracy: 0.8852\n",
      "Epoch 00033: val_loss did not improve from 0.54065\n",
      "601/601 [==============================] - 25s 42ms/step - loss: 0.3148 - accuracy: 0.8853 - val_loss: 0.6931 - val_accuracy: 0.7942\n",
      "Epoch 34/50\n",
      "600/601 [============================>.] - ETA: 0s - loss: 0.3089 - accuracy: 0.8879\n",
      "Epoch 00034: val_loss did not improve from 0.54065\n",
      "601/601 [==============================] - 24s 41ms/step - loss: 0.3088 - accuracy: 0.8880 - val_loss: 0.7188 - val_accuracy: 0.7975\n",
      "Epoch 35/50\n",
      "601/601 [==============================] - ETA: 0s - loss: 0.3060 - accuracy: 0.8889\n",
      "Epoch 00035: val_loss did not improve from 0.54065\n",
      "601/601 [==============================] - 24s 40ms/step - loss: 0.3060 - accuracy: 0.8889 - val_loss: 0.7210 - val_accuracy: 0.7975\n",
      "Epoch 36/50\n",
      "601/601 [==============================] - ETA: 0s - loss: 0.3066 - accuracy: 0.8871\n",
      "Epoch 00036: val_loss did not improve from 0.54065\n",
      "601/601 [==============================] - 24s 40ms/step - loss: 0.3066 - accuracy: 0.8871 - val_loss: 0.7097 - val_accuracy: 0.7972\n",
      "Epoch 37/50\n",
      "601/601 [==============================] - ETA: 0s - loss: 0.3055 - accuracy: 0.8882\n",
      "Epoch 00037: val_loss did not improve from 0.54065\n",
      "601/601 [==============================] - 24s 39ms/step - loss: 0.3055 - accuracy: 0.8882 - val_loss: 0.7233 - val_accuracy: 0.7973\n",
      "Epoch 38/50\n",
      "601/601 [==============================] - ETA: 0s - loss: 0.3035 - accuracy: 0.8888\n",
      "Epoch 00038: val_loss did not improve from 0.54065\n",
      "601/601 [==============================] - 24s 40ms/step - loss: 0.3035 - accuracy: 0.8888 - val_loss: 0.7243 - val_accuracy: 0.7973\n",
      "Epoch 39/50\n",
      "601/601 [==============================] - ETA: 0s - loss: 0.3018 - accuracy: 0.8908\n",
      "Epoch 00039: val_loss did not improve from 0.54065\n",
      "601/601 [==============================] - 24s 40ms/step - loss: 0.3018 - accuracy: 0.8908 - val_loss: 0.7363 - val_accuracy: 0.7920\n",
      "Epoch 40/50\n",
      "601/601 [==============================] - ETA: 0s - loss: 0.3015 - accuracy: 0.8898\n",
      "Epoch 00040: val_loss did not improve from 0.54065\n",
      "601/601 [==============================] - 23s 39ms/step - loss: 0.3015 - accuracy: 0.8898 - val_loss: 0.7308 - val_accuracy: 0.7992\n",
      "Epoch 41/50\n",
      "601/601 [==============================] - ETA: 0s - loss: 0.2990 - accuracy: 0.8888\n",
      "Epoch 00041: val_loss did not improve from 0.54065\n",
      "601/601 [==============================] - 25s 41ms/step - loss: 0.2990 - accuracy: 0.8888 - val_loss: 0.7330 - val_accuracy: 0.7945\n",
      "Epoch 42/50\n",
      "600/601 [============================>.] - ETA: 0s - loss: 0.2979 - accuracy: 0.8928\n",
      "Epoch 00042: val_loss did not improve from 0.54065\n",
      "601/601 [==============================] - 24s 41ms/step - loss: 0.2979 - accuracy: 0.8928 - val_loss: 0.7301 - val_accuracy: 0.7906\n",
      "Epoch 43/50\n",
      "601/601 [==============================] - ETA: 0s - loss: 0.2956 - accuracy: 0.8923\n",
      "Epoch 00043: val_loss did not improve from 0.54065\n",
      "601/601 [==============================] - 25s 41ms/step - loss: 0.2956 - accuracy: 0.8923 - val_loss: 0.7459 - val_accuracy: 0.7937\n",
      "Epoch 44/50\n",
      "601/601 [==============================] - ETA: 0s - loss: 0.2975 - accuracy: 0.8894\n",
      "Epoch 00044: val_loss did not improve from 0.54065\n",
      "601/601 [==============================] - 23s 39ms/step - loss: 0.2975 - accuracy: 0.8894 - val_loss: 0.7523 - val_accuracy: 0.7942\n",
      "Epoch 45/50\n",
      "600/601 [============================>.] - ETA: 0s - loss: 0.2952 - accuracy: 0.8919\n",
      "Epoch 00045: val_loss did not improve from 0.54065\n",
      "601/601 [==============================] - 24s 40ms/step - loss: 0.2953 - accuracy: 0.8919 - val_loss: 0.7542 - val_accuracy: 0.7850\n",
      "Epoch 46/50\n",
      "601/601 [==============================] - ETA: 0s - loss: 0.2911 - accuracy: 0.8941\n",
      "Epoch 00046: val_loss did not improve from 0.54065\n",
      "601/601 [==============================] - 23s 38ms/step - loss: 0.2911 - accuracy: 0.8941 - val_loss: 0.7588 - val_accuracy: 0.7898\n",
      "Epoch 47/50\n",
      "600/601 [============================>.] - ETA: 0s - loss: 0.2955 - accuracy: 0.8913\n",
      "Epoch 00047: val_loss did not improve from 0.54065\n",
      "601/601 [==============================] - 23s 39ms/step - loss: 0.2954 - accuracy: 0.8913 - val_loss: 0.7557 - val_accuracy: 0.7929\n",
      "Epoch 48/50\n",
      "600/601 [============================>.] - ETA: 0s - loss: 0.2903 - accuracy: 0.8936\n",
      "Epoch 00048: val_loss did not improve from 0.54065\n",
      "601/601 [==============================] - 24s 40ms/step - loss: 0.2902 - accuracy: 0.8937 - val_loss: 0.7512 - val_accuracy: 0.7920\n",
      "Epoch 49/50\n",
      "600/601 [============================>.] - ETA: 0s - loss: 0.2904 - accuracy: 0.8923\n",
      "Epoch 00049: val_loss did not improve from 0.54065\n",
      "601/601 [==============================] - 24s 40ms/step - loss: 0.2904 - accuracy: 0.8923 - val_loss: 0.7631 - val_accuracy: 0.7951\n",
      "Epoch 50/50\n",
      "600/601 [============================>.] - ETA: 0s - loss: 0.2937 - accuracy: 0.8924\n",
      "Epoch 00050: val_loss did not improve from 0.54065\n",
      "601/601 [==============================] - 24s 41ms/step - loss: 0.2937 - accuracy: 0.8924 - val_loss: 0.7558 - val_accuracy: 0.7914\n"
     ]
    }
   ],
   "source": [
    "model1 = Sequential()\n",
    "model1.add(layers.Embedding(max_words, 40, input_length=max_len))\n",
    "model1.add(layers.LSTM(5,dropout=0.6))\n",
    "model1.add(layers.Dense(3,activation='softmax'))\n",
    "model1.compile(optimizer='adam',loss='categorical_crossentropy', metrics=['accuracy'])\n",
    "\n",
    "checkpoint1 = ModelCheckpoint(\"model1.hdf5\", monitor='val_loss', verbose=2,save_best_only=True, mode='auto', period=1,save_weights_only=False)\n",
    "history = model1.fit(X_train, y_train, epochs=50,validation_data=(X_test, y_test),callbacks=[checkpoint1])"
   ]
  },
  {
   "cell_type": "code",
   "execution_count": 34,
   "metadata": {},
   "outputs": [
    {
     "name": "stdout",
     "output_type": "stream",
     "text": [
      "Model: \"sequential\"\n",
      "_________________________________________________________________\n",
      " Layer (type)                Output Shape              Param #   \n",
      "=================================================================\n",
      " embedding (Embedding)       (None, 200, 40)           200000    \n",
      "                                                                 \n",
      " lstm (LSTM)                 (None, 5)                 920       \n",
      "                                                                 \n",
      " dense (Dense)               (None, 3)                 18        \n",
      "                                                                 \n",
      "=================================================================\n",
      "Total params: 200,938\n",
      "Trainable params: 200,938\n",
      "Non-trainable params: 0\n",
      "_________________________________________________________________\n"
     ]
    }
   ],
   "source": [
    "model1.summary()"
   ]
  },
  {
   "cell_type": "code",
   "execution_count": 35,
   "metadata": {
    "scrolled": true
   },
   "outputs": [
    {
     "data": {
      "image/png": "[encoded data removed]",
      "text/plain": [
       "<Figure size 720x288 with 1 Axes>"
      ]
     },
     "metadata": {
      "needs_background": "light"
     },
     "output_type": "display_data"
    }
   ],
   "source": [
    "fig, ax = plt.subplots(figsize = (10, 4))\n",
    "ax.plot(history.history['loss'], label = 'train loss')\n",
    "ax.plot(history.history['val_loss'], label = 'val loss')\n",
    "ax.set_title('Model loss')\n",
    "ax.set_xlabel('Epoch')\n",
    "ax.set_ylabel('loss')\n",
    "ax.legend(loc = 'upper left')\n",
    "plt.show()"
   ]
  },
  {
   "cell_type": "code",
   "execution_count": 36,
   "metadata": {},
   "outputs": [],
   "source": [
    "model1 = keras.models.load_model(\"model1.hdf5\")"
   ]
  },
  {
   "cell_type": "code",
   "execution_count": 37,
   "metadata": {},
   "outputs": [
    {
     "name": "stdout",
     "output_type": "stream",
     "text": [
      "201/201 - 2s - loss: 0.5407 - accuracy: 0.8081 - 2s/epoch - 9ms/step\n"
     ]
    }
   ],
   "source": [
    "test_loss, test_acc, = model1.evaluate(X_test, y_test, verbose=2)"
   ]
  },
  {
   "cell_type": "code",
   "execution_count": 38,
   "metadata": {},
   "outputs": [],
   "source": [
    "predictions1 = model1.predict(X_test)"
   ]
  },
  {
   "cell_type": "code",
   "execution_count": 39,
   "metadata": {},
   "outputs": [
    {
     "name": "stdout",
     "output_type": "stream",
     "text": [
      "[[3022    2  375]\n",
      " [ 291    1  127]\n",
      " [ 431    3 2152]]\n"
     ]
    }
   ],
   "source": [
    "from sklearn.metrics import confusion_matrix\n",
    "matrix = confusion_matrix(y_test.argmax(axis=1), np.around(predictions1.argmax(axis=1)))\n",
    "print(matrix)"
   ]
  },
  {
   "cell_type": "code",
   "execution_count": 40,
   "metadata": {},
   "outputs": [],
   "source": [
    "from sklearn.metrics import precision_recall_fscore_support as eval"
   ]
  },
  {
   "cell_type": "code",
   "execution_count": 41,
   "metadata": {},
   "outputs": [
    {
     "name": "stdout",
     "output_type": "stream",
     "text": [
      "precision (Negative, Neutral,Positive): [0.80715812 0.16666667 0.81085154]\n",
      "recall (Negative,Neutral, Positive): [0.88908503 0.00238663 0.83217324]\n",
      "fscore (Negative,Neutral, Positive): [0.84614308 0.00470588 0.82137405]\n"
     ]
    }
   ],
   "source": [
    "precision, recall, fscore, support = eval(y_test.argmax(axis=1), predictions1.argmax(axis=1))\n",
    "print('precision (Negative, Neutral,Positive):', precision)\n",
    "print('recall (Negative,Neutral, Positive):', recall)\n",
    "print('fscore (Negative,Neutral, Positive):', fscore)"
   ]
  },
  {
   "cell_type": "code",
   "execution_count": 42,
   "metadata": {},
   "outputs": [
    {
     "data": {
      "text/plain": [
       "<AxesSubplot:>"
      ]
     },
     "execution_count": 42,
     "metadata": {},
     "output_type": "execute_result"
    },
    {
     "data": {
      "image/png": "[encoded data removed]",
      "text/plain": [
       "<Figure size 360x360 with 2 Axes>"
      ]
     },
     "metadata": {
      "needs_background": "light"
     },
     "output_type": "display_data"
    }
   ],
   "source": [
    "import seaborn as sns\n",
    "conf_matrix = pd.DataFrame(matrix, index = ['Negative','Neutral','Positive'],columns = ['Negative','Neutral','Positive'])\n",
    "#Normalizing\n",
    "cmn = conf_matrix.astype('float') / conf_matrix.sum(axis=1)[:, np.newaxis]\n",
    "plt.figure(figsize = (5,5))\n",
    "sns.heatmap(cmn, annot=True)"
   ]
  },
  {
   "cell_type": "code",
   "execution_count": 43,
   "metadata": {},
   "outputs": [],
   "source": [
    "del labels"
   ]
  },
  {
   "cell_type": "markdown",
   "metadata": {},
   "source": [
    "## Sentiment Labelling using Indonesian Lexicon"
   ]
  },
  {
   "cell_type": "code",
   "execution_count": 44,
   "metadata": {},
   "outputs": [],
   "source": [
    "lexicon_negative = dict()\n",
    "\n",
    "with open('lexicon_negative.csv', 'r') as csvfile:\n",
    "    reader = csv.reader(csvfile, delimiter=',')\n",
    "    for row in reader:\n",
    "        lexicon_negative[row[0]] = int(row[1])"
   ]
  },
  {
   "cell_type": "code",
   "execution_count": 45,
   "metadata": {},
   "outputs": [],
   "source": [
    "lexicon_positive = dict()\n",
    "\n",
    "with open('lexicon_positive.csv', 'r') as csvfile:\n",
    "    reader = csv.reader(csvfile, delimiter=',')\n",
    "    for row in reader:\n",
    "        lexicon_positive[row[0]] = int(row[1])"
   ]
  },
  {
   "cell_type": "code",
   "execution_count": 46,
   "metadata": {},
   "outputs": [],
   "source": [
    "def sentiment_analysis_lexicon_indonesia(text):\n",
    "    for word in text:\n",
    "        score = 0\n",
    "    for word in text:\n",
    "        if (word in lexicon_positive):\n",
    "            score = score + lexicon_positive[word]\n",
    "    for word in text:\n",
    "        if (word in lexicon_negative):\n",
    "            score = score + lexicon_negative[word]\n",
    "    polarity=''\n",
    "    if (score > 0):\n",
    "        polarity = 2\n",
    "    elif (score < 0):\n",
    "        polarity = 0\n",
    "    else:\n",
    "        polarity = 1\n",
    "    return score, polarity"
   ]
  },
  {
   "cell_type": "code",
   "execution_count": 47,
   "metadata": {},
   "outputs": [
    {
     "name": "stdout",
     "output_type": "stream",
     "text": [
      "0    12588\n",
      "2     9614\n",
      "1     3414\n",
      "Name: polarity, dtype: int64\n"
     ]
    }
   ],
   "source": [
    "results = df['words'].apply(sentiment_analysis_lexicon_indonesia)\n",
    "results = list(zip(*results))\n",
    "df['polarity_score'] = results[0]\n",
    "df['polarity'] = results[1]\n",
    "print(df['polarity'].value_counts())"
   ]
  },
  {
   "cell_type": "code",
   "execution_count": 48,
   "metadata": {},
   "outputs": [],
   "source": [
    "df.to_csv('data_labelled_lexicon.csv')"
   ]
  },
  {
   "cell_type": "code",
   "execution_count": 49,
   "metadata": {},
   "outputs": [],
   "source": [
    "#Label Encoding\n",
    "labels = np.array(df['polarity'])\n",
    "y = []\n",
    "for i in range(len(labels)):\n",
    "    if labels[i] == 0:\n",
    "        y.append(0)\n",
    "    if labels[i] == 1:\n",
    "        y.append(1)\n",
    "    if labels[i] == 2:\n",
    "        y.append(2)\n",
    "\n",
    "y = np.array(y)\n",
    "labels = tf.keras.utils.to_categorical(y, 3, dtype=\"float32\")\n",
    "del y"
   ]
  },
  {
   "cell_type": "code",
   "execution_count": 50,
   "metadata": {},
   "outputs": [
    {
     "name": "stdout",
     "output_type": "stream",
     "text": [
      "19212 6404 19212 6404\n"
     ]
    }
   ],
   "source": [
    "X_train1, X_test1, y_train1, y_test1 = train_test_split(review,labels, random_state=0)\n",
    "print (len(X_train1),len(X_test1),len(y_train1),len(y_test1))"
   ]
  },
  {
   "cell_type": "markdown",
   "metadata": {},
   "source": [
    "## Model 2 (Sentiment labelled using Indonesian Lexicon)"
   ]
  },
  {
   "cell_type": "code",
   "execution_count": 51,
   "metadata": {},
   "outputs": [
    {
     "name": "stdout",
     "output_type": "stream",
     "text": [
      "WARNING:tensorflow:`period` argument is deprecated. Please use `save_freq` to specify the frequency in number of batches seen.\n",
      "Epoch 1/50\n",
      "600/601 [============================>.] - ETA: 0s - loss: 0.7244 - accuracy: 0.7204\n",
      "Epoch 00001: val_loss improved from inf to 0.48707, saving model to model2.hdf5\n",
      "601/601 [==============================] - 26s 41ms/step - loss: 0.7243 - accuracy: 0.7205 - val_loss: 0.4871 - val_accuracy: 0.8568\n",
      "Epoch 2/50\n",
      "601/601 [==============================] - ETA: 0s - loss: 0.4302 - accuracy: 0.8654\n",
      "Epoch 00002: val_loss improved from 0.48707 to 0.38673, saving model to model2.hdf5\n",
      "601/601 [==============================] - 25s 41ms/step - loss: 0.4302 - accuracy: 0.8654 - val_loss: 0.3867 - val_accuracy: 0.8832\n",
      "Epoch 3/50\n",
      "600/601 [============================>.] - ETA: 0s - loss: 0.3398 - accuracy: 0.8957\n",
      "Epoch 00003: val_loss improved from 0.38673 to 0.34588, saving model to model2.hdf5\n",
      "601/601 [==============================] - 24s 39ms/step - loss: 0.3399 - accuracy: 0.8957 - val_loss: 0.3459 - val_accuracy: 0.8879\n",
      "Epoch 4/50\n",
      "601/601 [==============================] - ETA: 0s - loss: 0.2895 - accuracy: 0.9075\n",
      "Epoch 00004: val_loss improved from 0.34588 to 0.32291, saving model to model2.hdf5\n",
      "601/601 [==============================] - 23s 39ms/step - loss: 0.2895 - accuracy: 0.9075 - val_loss: 0.3229 - val_accuracy: 0.8930\n",
      "Epoch 5/50\n",
      "600/601 [============================>.] - ETA: 0s - loss: 0.2553 - accuracy: 0.9166\n",
      "Epoch 00005: val_loss improved from 0.32291 to 0.31238, saving model to model2.hdf5\n",
      "601/601 [==============================] - 24s 40ms/step - loss: 0.2552 - accuracy: 0.9167 - val_loss: 0.3124 - val_accuracy: 0.8980\n",
      "Epoch 6/50\n",
      "601/601 [==============================] - ETA: 0s - loss: 0.2276 - accuracy: 0.9227\n",
      "Epoch 00006: val_loss improved from 0.31238 to 0.29908, saving model to model2.hdf5\n",
      "601/601 [==============================] - 23s 39ms/step - loss: 0.2276 - accuracy: 0.9227 - val_loss: 0.2991 - val_accuracy: 0.8977\n",
      "Epoch 7/50\n",
      "601/601 [==============================] - ETA: 0s - loss: 0.2110 - accuracy: 0.9275\n",
      "Epoch 00007: val_loss improved from 0.29908 to 0.29421, saving model to model2.hdf5\n",
      "601/601 [==============================] - 23s 39ms/step - loss: 0.2110 - accuracy: 0.9275 - val_loss: 0.2942 - val_accuracy: 0.8954\n",
      "Epoch 8/50\n",
      "601/601 [==============================] - ETA: 0s - loss: 0.1996 - accuracy: 0.9313\n",
      "Epoch 00008: val_loss improved from 0.29421 to 0.29386, saving model to model2.hdf5\n",
      "601/601 [==============================] - 23s 39ms/step - loss: 0.1996 - accuracy: 0.9313 - val_loss: 0.2939 - val_accuracy: 0.8976\n",
      "Epoch 9/50\n",
      "601/601 [==============================] - ETA: 0s - loss: 0.1878 - accuracy: 0.9325\n",
      "Epoch 00009: val_loss did not improve from 0.29386\n",
      "601/601 [==============================] - 23s 39ms/step - loss: 0.1878 - accuracy: 0.9325 - val_loss: 0.3035 - val_accuracy: 0.9029\n",
      "Epoch 10/50\n",
      "601/601 [==============================] - ETA: 0s - loss: 0.1779 - accuracy: 0.9362\n",
      "Epoch 00010: val_loss did not improve from 0.29386\n",
      "601/601 [==============================] - 23s 38ms/step - loss: 0.1779 - accuracy: 0.9362 - val_loss: 0.3026 - val_accuracy: 0.8991\n",
      "Epoch 11/50\n",
      "601/601 [==============================] - ETA: 0s - loss: 0.1686 - accuracy: 0.9370\n",
      "Epoch 00011: val_loss did not improve from 0.29386\n",
      "601/601 [==============================] - 23s 39ms/step - loss: 0.1686 - accuracy: 0.9370 - val_loss: 0.3063 - val_accuracy: 0.8988\n",
      "Epoch 12/50\n",
      "601/601 [==============================] - ETA: 0s - loss: 0.1600 - accuracy: 0.9401\n",
      "Epoch 00012: val_loss did not improve from 0.29386\n",
      "601/601 [==============================] - 23s 38ms/step - loss: 0.1600 - accuracy: 0.9401 - val_loss: 0.3154 - val_accuracy: 0.8973\n",
      "Epoch 13/50\n",
      "601/601 [==============================] - ETA: 0s - loss: 0.1578 - accuracy: 0.9420\n",
      "Epoch 00013: val_loss did not improve from 0.29386\n",
      "601/601 [==============================] - 23s 39ms/step - loss: 0.1578 - accuracy: 0.9420 - val_loss: 0.3223 - val_accuracy: 0.8962\n",
      "Epoch 14/50\n",
      "601/601 [==============================] - ETA: 0s - loss: 0.1526 - accuracy: 0.9423\n",
      "Epoch 00014: val_loss did not improve from 0.29386\n",
      "601/601 [==============================] - 23s 38ms/step - loss: 0.1526 - accuracy: 0.9423 - val_loss: 0.3265 - val_accuracy: 0.8968\n",
      "Epoch 15/50\n",
      "601/601 [==============================] - ETA: 0s - loss: 0.1460 - accuracy: 0.9438\n",
      "Epoch 00015: val_loss did not improve from 0.29386\n",
      "601/601 [==============================] - 23s 39ms/step - loss: 0.1460 - accuracy: 0.9438 - val_loss: 0.3224 - val_accuracy: 0.8954\n",
      "Epoch 16/50\n",
      "601/601 [==============================] - ETA: 0s - loss: 0.1425 - accuracy: 0.9460\n",
      "Epoch 00016: val_loss did not improve from 0.29386\n",
      "601/601 [==============================] - 23s 39ms/step - loss: 0.1425 - accuracy: 0.9460 - val_loss: 0.3378 - val_accuracy: 0.8958\n",
      "Epoch 17/50\n",
      "601/601 [==============================] - ETA: 0s - loss: 0.1416 - accuracy: 0.9466\n",
      "Epoch 00017: val_loss did not improve from 0.29386\n",
      "601/601 [==============================] - 23s 39ms/step - loss: 0.1416 - accuracy: 0.9466 - val_loss: 0.3380 - val_accuracy: 0.8951\n",
      "Epoch 18/50\n",
      "601/601 [==============================] - ETA: 0s - loss: 0.1341 - accuracy: 0.9496\n",
      "Epoch 00018: val_loss did not improve from 0.29386\n",
      "601/601 [==============================] - 23s 39ms/step - loss: 0.1341 - accuracy: 0.9496 - val_loss: 0.3488 - val_accuracy: 0.8946\n",
      "Epoch 19/50\n",
      "601/601 [==============================] - ETA: 0s - loss: 0.1340 - accuracy: 0.9501\n",
      "Epoch 00019: val_loss did not improve from 0.29386\n",
      "601/601 [==============================] - 23s 39ms/step - loss: 0.1340 - accuracy: 0.9501 - val_loss: 0.3469 - val_accuracy: 0.8948\n",
      "Epoch 20/50\n",
      "601/601 [==============================] - ETA: 0s - loss: 0.1284 - accuracy: 0.9510\n",
      "Epoch 00020: val_loss did not improve from 0.29386\n",
      "601/601 [==============================] - 23s 39ms/step - loss: 0.1284 - accuracy: 0.9510 - val_loss: 0.3505 - val_accuracy: 0.8944\n",
      "Epoch 21/50\n",
      "601/601 [==============================] - ETA: 0s - loss: 0.1298 - accuracy: 0.9522\n",
      "Epoch 00021: val_loss did not improve from 0.29386\n",
      "601/601 [==============================] - 23s 39ms/step - loss: 0.1298 - accuracy: 0.9522 - val_loss: 0.3507 - val_accuracy: 0.8955\n",
      "Epoch 22/50\n",
      "601/601 [==============================] - ETA: 0s - loss: 0.1239 - accuracy: 0.9522\n",
      "Epoch 00022: val_loss did not improve from 0.29386\n",
      "601/601 [==============================] - 23s 39ms/step - loss: 0.1239 - accuracy: 0.9522 - val_loss: 0.3731 - val_accuracy: 0.8927\n",
      "Epoch 23/50\n",
      "601/601 [==============================] - ETA: 0s - loss: 0.1240 - accuracy: 0.9538\n",
      "Epoch 00023: val_loss did not improve from 0.29386\n",
      "601/601 [==============================] - 23s 39ms/step - loss: 0.1240 - accuracy: 0.9538 - val_loss: 0.3770 - val_accuracy: 0.8958\n",
      "Epoch 24/50\n",
      "601/601 [==============================] - ETA: 0s - loss: 0.1178 - accuracy: 0.9544\n",
      "Epoch 00024: val_loss did not improve from 0.29386\n",
      "601/601 [==============================] - 23s 39ms/step - loss: 0.1178 - accuracy: 0.9544 - val_loss: 0.3767 - val_accuracy: 0.8943\n",
      "Epoch 25/50\n",
      "601/601 [==============================] - ETA: 0s - loss: 0.1180 - accuracy: 0.9562\n",
      "Epoch 00025: val_loss did not improve from 0.29386\n",
      "601/601 [==============================] - 23s 39ms/step - loss: 0.1180 - accuracy: 0.9562 - val_loss: 0.3733 - val_accuracy: 0.8946\n",
      "Epoch 26/50\n",
      "601/601 [==============================] - ETA: 0s - loss: 0.1137 - accuracy: 0.9578\n",
      "Epoch 00026: val_loss did not improve from 0.29386\n",
      "601/601 [==============================] - 23s 39ms/step - loss: 0.1137 - accuracy: 0.9578 - val_loss: 0.3845 - val_accuracy: 0.8962\n",
      "Epoch 27/50\n",
      "601/601 [==============================] - ETA: 0s - loss: 0.1093 - accuracy: 0.9580\n",
      "Epoch 00027: val_loss did not improve from 0.29386\n",
      "601/601 [==============================] - 23s 39ms/step - loss: 0.1093 - accuracy: 0.9580 - val_loss: 0.3866 - val_accuracy: 0.8958\n",
      "Epoch 28/50\n",
      "601/601 [==============================] - ETA: 0s - loss: 0.1089 - accuracy: 0.9589\n",
      "Epoch 00028: val_loss did not improve from 0.29386\n",
      "601/601 [==============================] - 23s 39ms/step - loss: 0.1089 - accuracy: 0.9589 - val_loss: 0.3996 - val_accuracy: 0.8974\n",
      "Epoch 29/50\n",
      "601/601 [==============================] - ETA: 0s - loss: 0.1078 - accuracy: 0.9604\n",
      "Epoch 00029: val_loss did not improve from 0.29386\n",
      "601/601 [==============================] - 23s 39ms/step - loss: 0.1078 - accuracy: 0.9604 - val_loss: 0.4113 - val_accuracy: 0.8968\n",
      "Epoch 30/50\n",
      "601/601 [==============================] - ETA: 0s - loss: 0.1095 - accuracy: 0.9585\n",
      "Epoch 00030: val_loss did not improve from 0.29386\n",
      "601/601 [==============================] - 23s 38ms/step - loss: 0.1095 - accuracy: 0.9585 - val_loss: 0.3971 - val_accuracy: 0.8955\n",
      "Epoch 31/50\n",
      "601/601 [==============================] - ETA: 0s - loss: 0.1085 - accuracy: 0.9594\n",
      "Epoch 00031: val_loss did not improve from 0.29386\n",
      "601/601 [==============================] - 23s 38ms/step - loss: 0.1085 - accuracy: 0.9594 - val_loss: 0.4120 - val_accuracy: 0.8963\n",
      "Epoch 32/50\n",
      "601/601 [==============================] - ETA: 0s - loss: 0.1015 - accuracy: 0.9623\n",
      "Epoch 00032: val_loss did not improve from 0.29386\n",
      "601/601 [==============================] - 23s 38ms/step - loss: 0.1015 - accuracy: 0.9623 - val_loss: 0.4171 - val_accuracy: 0.8962\n",
      "Epoch 33/50\n",
      "601/601 [==============================] - ETA: 0s - loss: 0.1021 - accuracy: 0.9621\n",
      "Epoch 00033: val_loss did not improve from 0.29386\n",
      "601/601 [==============================] - 23s 38ms/step - loss: 0.1021 - accuracy: 0.9621 - val_loss: 0.4309 - val_accuracy: 0.8954\n",
      "Epoch 34/50\n",
      "601/601 [==============================] - ETA: 0s - loss: 0.1074 - accuracy: 0.9616\n",
      "Epoch 00034: val_loss did not improve from 0.29386\n",
      "601/601 [==============================] - 23s 38ms/step - loss: 0.1074 - accuracy: 0.9616 - val_loss: 0.4296 - val_accuracy: 0.8969\n",
      "Epoch 35/50\n",
      "601/601 [==============================] - ETA: 0s - loss: 0.0974 - accuracy: 0.9639\n",
      "Epoch 00035: val_loss did not improve from 0.29386\n",
      "601/601 [==============================] - 23s 39ms/step - loss: 0.0974 - accuracy: 0.9639 - val_loss: 0.4406 - val_accuracy: 0.8954\n",
      "Epoch 36/50\n",
      "601/601 [==============================] - ETA: 0s - loss: 0.0974 - accuracy: 0.9637\n",
      "Epoch 00036: val_loss did not improve from 0.29386\n",
      "601/601 [==============================] - 23s 39ms/step - loss: 0.0974 - accuracy: 0.9637 - val_loss: 0.4423 - val_accuracy: 0.8976\n",
      "Epoch 37/50\n",
      "601/601 [==============================] - ETA: 0s - loss: 0.0978 - accuracy: 0.9637\n",
      "Epoch 00037: val_loss did not improve from 0.29386\n",
      "601/601 [==============================] - 23s 39ms/step - loss: 0.0978 - accuracy: 0.9637 - val_loss: 0.4494 - val_accuracy: 0.8996\n",
      "Epoch 38/50\n",
      "601/601 [==============================] - ETA: 0s - loss: 0.0991 - accuracy: 0.9640\n",
      "Epoch 00038: val_loss did not improve from 0.29386\n",
      "601/601 [==============================] - 23s 39ms/step - loss: 0.0991 - accuracy: 0.9640 - val_loss: 0.4485 - val_accuracy: 0.8980\n",
      "Epoch 39/50\n",
      "601/601 [==============================] - ETA: 0s - loss: 0.0950 - accuracy: 0.9654\n",
      "Epoch 00039: val_loss did not improve from 0.29386\n",
      "601/601 [==============================] - 23s 38ms/step - loss: 0.0950 - accuracy: 0.9654 - val_loss: 0.4517 - val_accuracy: 0.8991\n",
      "Epoch 40/50\n",
      "601/601 [==============================] - ETA: 0s - loss: 0.0947 - accuracy: 0.9661\n",
      "Epoch 00040: val_loss did not improve from 0.29386\n",
      "601/601 [==============================] - 23s 39ms/step - loss: 0.0947 - accuracy: 0.9661 - val_loss: 0.4443 - val_accuracy: 0.8985\n",
      "Epoch 41/50\n",
      "601/601 [==============================] - ETA: 0s - loss: 0.0942 - accuracy: 0.9647\n",
      "Epoch 00041: val_loss did not improve from 0.29386\n",
      "601/601 [==============================] - 23s 39ms/step - loss: 0.0942 - accuracy: 0.9647 - val_loss: 0.4534 - val_accuracy: 0.8957\n",
      "Epoch 42/50\n",
      "601/601 [==============================] - ETA: 0s - loss: 0.0905 - accuracy: 0.9671\n",
      "Epoch 00042: val_loss did not improve from 0.29386\n",
      "601/601 [==============================] - 23s 39ms/step - loss: 0.0905 - accuracy: 0.9671 - val_loss: 0.4692 - val_accuracy: 0.8944\n",
      "Epoch 43/50\n",
      "601/601 [==============================] - ETA: 0s - loss: 0.0892 - accuracy: 0.9684\n",
      "Epoch 00043: val_loss did not improve from 0.29386\n",
      "601/601 [==============================] - 23s 39ms/step - loss: 0.0892 - accuracy: 0.9684 - val_loss: 0.4687 - val_accuracy: 0.8976\n",
      "Epoch 44/50\n",
      "601/601 [==============================] - ETA: 0s - loss: 0.0925 - accuracy: 0.9659\n",
      "Epoch 00044: val_loss did not improve from 0.29386\n",
      "601/601 [==============================] - 23s 39ms/step - loss: 0.0925 - accuracy: 0.9659 - val_loss: 0.4670 - val_accuracy: 0.8973\n",
      "Epoch 45/50\n",
      "601/601 [==============================] - ETA: 0s - loss: 0.0913 - accuracy: 0.9672\n",
      "Epoch 00045: val_loss did not improve from 0.29386\n",
      "601/601 [==============================] - 23s 38ms/step - loss: 0.0913 - accuracy: 0.9672 - val_loss: 0.4736 - val_accuracy: 0.8962\n",
      "Epoch 46/50\n",
      "601/601 [==============================] - ETA: 0s - loss: 0.0882 - accuracy: 0.9676\n",
      "Epoch 00046: val_loss did not improve from 0.29386\n",
      "601/601 [==============================] - 23s 39ms/step - loss: 0.0882 - accuracy: 0.9676 - val_loss: 0.4887 - val_accuracy: 0.8968\n",
      "Epoch 47/50\n",
      "601/601 [==============================] - ETA: 0s - loss: 0.0875 - accuracy: 0.9682\n",
      "Epoch 00047: val_loss did not improve from 0.29386\n",
      "601/601 [==============================] - 23s 39ms/step - loss: 0.0875 - accuracy: 0.9682 - val_loss: 0.4829 - val_accuracy: 0.8974\n",
      "Epoch 48/50\n",
      "601/601 [==============================] - ETA: 0s - loss: 0.0838 - accuracy: 0.9695\n",
      "Epoch 00048: val_loss did not improve from 0.29386\n",
      "601/601 [==============================] - 23s 39ms/step - loss: 0.0838 - accuracy: 0.9695 - val_loss: 0.4838 - val_accuracy: 0.8948\n",
      "Epoch 49/50\n",
      "601/601 [==============================] - ETA: 0s - loss: 0.0849 - accuracy: 0.9693\n",
      "Epoch 00049: val_loss did not improve from 0.29386\n",
      "601/601 [==============================] - 23s 39ms/step - loss: 0.0849 - accuracy: 0.9693 - val_loss: 0.4856 - val_accuracy: 0.8958\n",
      "Epoch 50/50\n",
      "601/601 [==============================] - ETA: 0s - loss: 0.0850 - accuracy: 0.9689\n",
      "Epoch 00050: val_loss did not improve from 0.29386\n",
      "601/601 [==============================] - 23s 39ms/step - loss: 0.0850 - accuracy: 0.9689 - val_loss: 0.4888 - val_accuracy: 0.8966\n"
     ]
    }
   ],
   "source": [
    "model2 = Sequential()\n",
    "model2.add(layers.Embedding(max_words, 40, input_length=max_len))\n",
    "model2.add(layers.LSTM(5,dropout=0.6))\n",
    "model2.add(layers.Dense(3,activation='softmax'))\n",
    "model2.compile(optimizer='adam',loss='categorical_crossentropy', metrics=['accuracy'])\n",
    "\n",
    "checkpoint2 = ModelCheckpoint(\"model2.hdf5\", monitor='val_loss', verbose=2,save_best_only=True, mode='auto', period=1,save_weights_only=False)\n",
    "history = model2.fit(X_train1, y_train1, epochs=50,validation_data=(X_test1, y_test1),callbacks=[checkpoint2])"
   ]
  },
  {
   "cell_type": "code",
   "execution_count": 52,
   "metadata": {},
   "outputs": [],
   "source": [
    "model2 = keras.models.load_model(\"model2.hdf5\")"
   ]
  },
  {
   "cell_type": "code",
   "execution_count": 53,
   "metadata": {},
   "outputs": [
    {
     "data": {
      "image/png": "[encoded data removed]",
      "text/plain": [
       "<Figure size 720x288 with 1 Axes>"
      ]
     },
     "metadata": {
      "needs_background": "light"
     },
     "output_type": "display_data"
    }
   ],
   "source": [
    "fig, ax = plt.subplots(figsize = (10, 4))\n",
    "ax.plot(history.history['loss'], label = 'train loss')\n",
    "ax.plot(history.history['val_loss'], label = 'val loss')\n",
    "ax.set_title('Model loss')\n",
    "ax.set_xlabel('Epoch')\n",
    "ax.set_ylabel('loss')\n",
    "ax.legend(loc = 'upper left')\n",
    "plt.show()"
   ]
  },
  {
   "cell_type": "code",
   "execution_count": 54,
   "metadata": {
    "scrolled": true
   },
   "outputs": [
    {
     "name": "stdout",
     "output_type": "stream",
     "text": [
      "201/201 - 2s - loss: 0.2939 - accuracy: 0.8976 - 2s/epoch - 9ms/step\n"
     ]
    }
   ],
   "source": [
    "test_loss, test_acc, = model2.evaluate(X_test1, y_test1, verbose=2)"
   ]
  },
  {
   "cell_type": "code",
   "execution_count": 55,
   "metadata": {},
   "outputs": [],
   "source": [
    "predictions2 = model2.predict(X_test1)"
   ]
  },
  {
   "cell_type": "code",
   "execution_count": 56,
   "metadata": {},
   "outputs": [
    {
     "name": "stdout",
     "output_type": "stream",
     "text": [
      "precision (Negative, Neutral,Positive): [0.89494048 0.89428076 0.90190515]\n",
      "recall (Negative,Neutral, Positive): [0.95490632 0.61209964 0.92247098]\n",
      "fscore (Negative,Neutral, Positive): [0.92395145 0.72676056 0.91207215]\n"
     ]
    }
   ],
   "source": [
    "precision, recall, fscore, support = eval(y_test1.argmax(axis=1), predictions2.argmax(axis=1))\n",
    "print('precision (Negative, Neutral,Positive):', precision)\n",
    "print('recall (Negative,Neutral, Positive):', recall)\n",
    "print('fscore (Negative,Neutral, Positive):', fscore)"
   ]
  },
  {
   "cell_type": "code",
   "execution_count": 57,
   "metadata": {},
   "outputs": [
    {
     "name": "stdout",
     "output_type": "stream",
     "text": [
      "[[3007   34  108]\n",
      " [ 193  516  134]\n",
      " [ 160   27 2225]]\n"
     ]
    }
   ],
   "source": [
    "from sklearn.metrics import confusion_matrix\n",
    "matrix = confusion_matrix(y_test1.argmax(axis=1), np.around(predictions2.argmax(axis=1)))\n",
    "print(matrix)"
   ]
  },
  {
   "cell_type": "code",
   "execution_count": 58,
   "metadata": {},
   "outputs": [],
   "source": [
    "import seaborn as sns\n",
    "conf_matrix = pd.DataFrame(matrix, index = ['Negative','Neutral','Positive'],columns = ['Negative','Neutral','Positive'])"
   ]
  },
  {
   "cell_type": "code",
   "execution_count": 59,
   "metadata": {},
   "outputs": [
    {
     "data": {
      "text/plain": [
       "<AxesSubplot:>"
      ]
     },
     "execution_count": 59,
     "metadata": {},
     "output_type": "execute_result"
    },
    {
     "data": {
      "image/png": "[encoded data removed]",
      "text/plain": [
       "<Figure size 360x360 with 2 Axes>"
      ]
     },
     "metadata": {
      "needs_background": "light"
     },
     "output_type": "display_data"
    }
   ],
   "source": [
    "#Normalizing\n",
    "cmn = conf_matrix.astype('float') / conf_matrix.sum(axis=1)[:, np.newaxis]\n",
    "plt.figure(figsize = (5,5))\n",
    "sns.heatmap(cmn, annot=True)"
   ]
  },
  {
   "cell_type": "code",
   "execution_count": 60,
   "metadata": {},
   "outputs": [
    {
     "name": "stdout",
     "output_type": "stream",
     "text": [
      "Awalnya saya ragu untuk memakai aplikasi ini karena ratingnya yang kurang baik. Begitu saya coba, ternyata tidak ada kendala sama sekali baik dari transfer dana ke doku wallet dan payment di merchantnya. Semua diproses dengan cepat. Terima kasih\n"
     ]
    },
    {
     "data": {
      "text/plain": [
       "'Positive'"
      ]
     },
     "execution_count": 60,
     "metadata": {},
     "output_type": "execute_result"
    }
   ],
   "source": [
    "sentiment = ['Negative','Neutral','Positive']\n",
    "text = 'Awalnya saya ragu untuk memakai aplikasi ini karena ratingnya yang kurang baik. Begitu saya coba, ternyata tidak ada kendala sama sekali baik dari transfer dana ke doku wallet dan payment di merchantnya. Semua diproses dengan cepat. Terima kasih'\n",
    "textp = preprocess(text)\n",
    "sequence = tokenizer.texts_to_sequences([textp])\n",
    "test = pad_sequences(sequence, maxlen=max_len)\n",
    "print(text)\n",
    "sentiment[np.around(model1.predict(test), decimals=0).argmax(axis=1)[0]]"
   ]
  },
  {
   "cell_type": "code",
   "execution_count": 61,
   "metadata": {
    "scrolled": true
   },
   "outputs": [
    {
     "data": {
      "text/html": [
       "<div>\n",
       "<style scoped>\n",
       "    .dataframe tbody tr th:only-of-type {\n",
       "        vertical-align: middle;\n",
       "    }\n",
       "\n",
       "    .dataframe tbody tr th {\n",
       "        vertical-align: top;\n",
       "    }\n",
       "\n",
       "    .dataframe thead th {\n",
       "        text-align: right;\n",
       "    }\n",
       "</style>\n",
       "<table border=\"1\" class=\"dataframe\">\n",
       "  <thead>\n",
       "    <tr style=\"text-align: right;\">\n",
       "      <th></th>\n",
       "      <th></th>\n",
       "      <th>date</th>\n",
       "      <th>review</th>\n",
       "      <th>rating</th>\n",
       "      <th>sentiment</th>\n",
       "      <th>words</th>\n",
       "      <th>polarity_score</th>\n",
       "    </tr>\n",
       "    <tr>\n",
       "      <th>dataset</th>\n",
       "      <th>polarity</th>\n",
       "      <th></th>\n",
       "      <th></th>\n",
       "      <th></th>\n",
       "      <th></th>\n",
       "      <th></th>\n",
       "      <th></th>\n",
       "    </tr>\n",
       "  </thead>\n",
       "  <tbody>\n",
       "    <tr>\n",
       "      <th rowspan=\"3\" valign=\"top\">Dana App Store</th>\n",
       "      <th>0</th>\n",
       "      <td>1277</td>\n",
       "      <td>1277</td>\n",
       "      <td>1277</td>\n",
       "      <td>1277</td>\n",
       "      <td>1277</td>\n",
       "      <td>1277</td>\n",
       "    </tr>\n",
       "    <tr>\n",
       "      <th>1</th>\n",
       "      <td>307</td>\n",
       "      <td>307</td>\n",
       "      <td>307</td>\n",
       "      <td>307</td>\n",
       "      <td>307</td>\n",
       "      <td>307</td>\n",
       "    </tr>\n",
       "    <tr>\n",
       "      <th>2</th>\n",
       "      <td>1236</td>\n",
       "      <td>1236</td>\n",
       "      <td>1236</td>\n",
       "      <td>1236</td>\n",
       "      <td>1236</td>\n",
       "      <td>1236</td>\n",
       "    </tr>\n",
       "  </tbody>\n",
       "</table>\n",
       "</div>"
      ],
      "text/plain": [
       "                         date  review  rating  sentiment  words  \\\n",
       "dataset        polarity                                           \n",
       "Dana App Store 0         1277    1277    1277       1277   1277   \n",
       "               1          307     307     307        307    307   \n",
       "               2         1236    1236    1236       1236   1236   \n",
       "\n",
       "                         polarity_score  \n",
       "dataset        polarity                  \n",
       "Dana App Store 0                   1277  \n",
       "               1                    307  \n",
       "               2                   1236  "
      ]
     },
     "execution_count": 61,
     "metadata": {},
     "output_type": "execute_result"
    }
   ],
   "source": [
    "#df.loc[(df['polarity'] == 2) & (df['sentiment'] == 0)]\n",
    "df.loc[df['dataset'] == 'Dana App Store'].groupby(by = ['dataset','polarity']).count()"
   ]
  },
  {
   "cell_type": "code",
   "execution_count": 62,
   "metadata": {},
   "outputs": [
    {
     "data": {
      "text/html": [
       "<div>\n",
       "<style scoped>\n",
       "    .dataframe tbody tr th:only-of-type {\n",
       "        vertical-align: middle;\n",
       "    }\n",
       "\n",
       "    .dataframe tbody tr th {\n",
       "        vertical-align: top;\n",
       "    }\n",
       "\n",
       "    .dataframe thead th {\n",
       "        text-align: right;\n",
       "    }\n",
       "</style>\n",
       "<table border=\"1\" class=\"dataframe\">\n",
       "  <thead>\n",
       "    <tr style=\"text-align: right;\">\n",
       "      <th></th>\n",
       "      <th></th>\n",
       "      <th>date</th>\n",
       "      <th>review</th>\n",
       "      <th>rating</th>\n",
       "      <th>words</th>\n",
       "      <th>polarity</th>\n",
       "      <th>polarity_score</th>\n",
       "    </tr>\n",
       "    <tr>\n",
       "      <th>dataset</th>\n",
       "      <th>sentiment</th>\n",
       "      <th></th>\n",
       "      <th></th>\n",
       "      <th></th>\n",
       "      <th></th>\n",
       "      <th></th>\n",
       "      <th></th>\n",
       "    </tr>\n",
       "  </thead>\n",
       "  <tbody>\n",
       "    <tr>\n",
       "      <th rowspan=\"3\" valign=\"top\">Dana App Store</th>\n",
       "      <th>0</th>\n",
       "      <td>1721</td>\n",
       "      <td>1721</td>\n",
       "      <td>1721</td>\n",
       "      <td>1721</td>\n",
       "      <td>1721</td>\n",
       "      <td>1721</td>\n",
       "    </tr>\n",
       "    <tr>\n",
       "      <th>1</th>\n",
       "      <td>188</td>\n",
       "      <td>188</td>\n",
       "      <td>188</td>\n",
       "      <td>188</td>\n",
       "      <td>188</td>\n",
       "      <td>188</td>\n",
       "    </tr>\n",
       "    <tr>\n",
       "      <th>2</th>\n",
       "      <td>911</td>\n",
       "      <td>911</td>\n",
       "      <td>911</td>\n",
       "      <td>911</td>\n",
       "      <td>911</td>\n",
       "      <td>911</td>\n",
       "    </tr>\n",
       "  </tbody>\n",
       "</table>\n",
       "</div>"
      ],
      "text/plain": [
       "                          date  review  rating  words  polarity  \\\n",
       "dataset        sentiment                                          \n",
       "Dana App Store 0          1721    1721    1721   1721      1721   \n",
       "               1           188     188     188    188       188   \n",
       "               2           911     911     911    911       911   \n",
       "\n",
       "                          polarity_score  \n",
       "dataset        sentiment                  \n",
       "Dana App Store 0                    1721  \n",
       "               1                     188  \n",
       "               2                     911  "
      ]
     },
     "execution_count": 62,
     "metadata": {},
     "output_type": "execute_result"
    }
   ],
   "source": [
    "df.loc[df['dataset'] == 'Dana App Store'].groupby(by = ['dataset','sentiment']).count()"
   ]
  },
  {
   "cell_type": "code",
   "execution_count": 63,
   "metadata": {},
   "outputs": [
    {
     "data": {
      "text/html": [
       "<div>\n",
       "<style scoped>\n",
       "    .dataframe tbody tr th:only-of-type {\n",
       "        vertical-align: middle;\n",
       "    }\n",
       "\n",
       "    .dataframe tbody tr th {\n",
       "        vertical-align: top;\n",
       "    }\n",
       "\n",
       "    .dataframe thead th {\n",
       "        text-align: right;\n",
       "    }\n",
       "</style>\n",
       "<table border=\"1\" class=\"dataframe\">\n",
       "  <thead>\n",
       "    <tr style=\"text-align: right;\">\n",
       "      <th></th>\n",
       "      <th></th>\n",
       "      <th>date</th>\n",
       "      <th>review</th>\n",
       "      <th>rating</th>\n",
       "      <th>sentiment</th>\n",
       "      <th>words</th>\n",
       "      <th>polarity_score</th>\n",
       "    </tr>\n",
       "    <tr>\n",
       "      <th>dataset</th>\n",
       "      <th>polarity</th>\n",
       "      <th></th>\n",
       "      <th></th>\n",
       "      <th></th>\n",
       "      <th></th>\n",
       "      <th></th>\n",
       "      <th></th>\n",
       "    </tr>\n",
       "  </thead>\n",
       "  <tbody>\n",
       "    <tr>\n",
       "      <th rowspan=\"3\" valign=\"top\">Dana Google Play</th>\n",
       "      <th>0</th>\n",
       "      <td>2324</td>\n",
       "      <td>2324</td>\n",
       "      <td>2324</td>\n",
       "      <td>2324</td>\n",
       "      <td>2324</td>\n",
       "      <td>2324</td>\n",
       "    </tr>\n",
       "    <tr>\n",
       "      <th>1</th>\n",
       "      <td>844</td>\n",
       "      <td>844</td>\n",
       "      <td>844</td>\n",
       "      <td>844</td>\n",
       "      <td>844</td>\n",
       "      <td>844</td>\n",
       "    </tr>\n",
       "    <tr>\n",
       "      <th>2</th>\n",
       "      <td>2727</td>\n",
       "      <td>2727</td>\n",
       "      <td>2727</td>\n",
       "      <td>2727</td>\n",
       "      <td>2727</td>\n",
       "      <td>2727</td>\n",
       "    </tr>\n",
       "  </tbody>\n",
       "</table>\n",
       "</div>"
      ],
      "text/plain": [
       "                           date  review  rating  sentiment  words  \\\n",
       "dataset          polarity                                           \n",
       "Dana Google Play 0         2324    2324    2324       2324   2324   \n",
       "                 1          844     844     844        844    844   \n",
       "                 2         2727    2727    2727       2727   2727   \n",
       "\n",
       "                           polarity_score  \n",
       "dataset          polarity                  \n",
       "Dana Google Play 0                   2324  \n",
       "                 1                    844  \n",
       "                 2                   2727  "
      ]
     },
     "execution_count": 63,
     "metadata": {},
     "output_type": "execute_result"
    }
   ],
   "source": [
    "df.loc[df['dataset'] == 'Dana Google Play'].groupby(by = ['dataset','polarity']).count()"
   ]
  },
  {
   "cell_type": "code",
   "execution_count": 64,
   "metadata": {},
   "outputs": [
    {
     "data": {
      "text/html": [
       "<div>\n",
       "<style scoped>\n",
       "    .dataframe tbody tr th:only-of-type {\n",
       "        vertical-align: middle;\n",
       "    }\n",
       "\n",
       "    .dataframe tbody tr th {\n",
       "        vertical-align: top;\n",
       "    }\n",
       "\n",
       "    .dataframe thead th {\n",
       "        text-align: right;\n",
       "    }\n",
       "</style>\n",
       "<table border=\"1\" class=\"dataframe\">\n",
       "  <thead>\n",
       "    <tr style=\"text-align: right;\">\n",
       "      <th></th>\n",
       "      <th></th>\n",
       "      <th>date</th>\n",
       "      <th>review</th>\n",
       "      <th>rating</th>\n",
       "      <th>words</th>\n",
       "      <th>polarity</th>\n",
       "      <th>polarity_score</th>\n",
       "    </tr>\n",
       "    <tr>\n",
       "      <th>dataset</th>\n",
       "      <th>sentiment</th>\n",
       "      <th></th>\n",
       "      <th></th>\n",
       "      <th></th>\n",
       "      <th></th>\n",
       "      <th></th>\n",
       "      <th></th>\n",
       "    </tr>\n",
       "  </thead>\n",
       "  <tbody>\n",
       "    <tr>\n",
       "      <th rowspan=\"3\" valign=\"top\">Dana Google Play</th>\n",
       "      <th>0</th>\n",
       "      <td>2466</td>\n",
       "      <td>2466</td>\n",
       "      <td>2466</td>\n",
       "      <td>2466</td>\n",
       "      <td>2466</td>\n",
       "      <td>2466</td>\n",
       "    </tr>\n",
       "    <tr>\n",
       "      <th>1</th>\n",
       "      <td>428</td>\n",
       "      <td>428</td>\n",
       "      <td>428</td>\n",
       "      <td>428</td>\n",
       "      <td>428</td>\n",
       "      <td>428</td>\n",
       "    </tr>\n",
       "    <tr>\n",
       "      <th>2</th>\n",
       "      <td>3001</td>\n",
       "      <td>3001</td>\n",
       "      <td>3001</td>\n",
       "      <td>3001</td>\n",
       "      <td>3001</td>\n",
       "      <td>3001</td>\n",
       "    </tr>\n",
       "  </tbody>\n",
       "</table>\n",
       "</div>"
      ],
      "text/plain": [
       "                            date  review  rating  words  polarity  \\\n",
       "dataset          sentiment                                          \n",
       "Dana Google Play 0          2466    2466    2466   2466      2466   \n",
       "                 1           428     428     428    428       428   \n",
       "                 2          3001    3001    3001   3001      3001   \n",
       "\n",
       "                            polarity_score  \n",
       "dataset          sentiment                  \n",
       "Dana Google Play 0                    2466  \n",
       "                 1                     428  \n",
       "                 2                    3001  "
      ]
     },
     "execution_count": 64,
     "metadata": {},
     "output_type": "execute_result"
    }
   ],
   "source": [
    "df.loc[df['dataset'] == 'Dana Google Play'].groupby(by = ['dataset','sentiment']).count()"
   ]
  },
  {
   "cell_type": "code",
   "execution_count": 65,
   "metadata": {},
   "outputs": [
    {
     "data": {
      "text/html": [
       "<div>\n",
       "<style scoped>\n",
       "    .dataframe tbody tr th:only-of-type {\n",
       "        vertical-align: middle;\n",
       "    }\n",
       "\n",
       "    .dataframe tbody tr th {\n",
       "        vertical-align: top;\n",
       "    }\n",
       "\n",
       "    .dataframe thead th {\n",
       "        text-align: right;\n",
       "    }\n",
       "</style>\n",
       "<table border=\"1\" class=\"dataframe\">\n",
       "  <thead>\n",
       "    <tr style=\"text-align: right;\">\n",
       "      <th></th>\n",
       "      <th>date</th>\n",
       "      <th>review</th>\n",
       "      <th>rating</th>\n",
       "      <th>dataset</th>\n",
       "      <th>sentiment</th>\n",
       "      <th>words</th>\n",
       "      <th>polarity</th>\n",
       "      <th>polarity_score</th>\n",
       "    </tr>\n",
       "  </thead>\n",
       "  <tbody>\n",
       "    <tr>\n",
       "      <th>101</th>\n",
       "      <td>2022-02-08 00:57:22</td>\n",
       "      <td>neng banget pake aplikasi soal tampil nya cant...</td>\n",
       "      <td>5</td>\n",
       "      <td>LinkAja App Store</td>\n",
       "      <td>2</td>\n",
       "      <td>[neng, banget, pake, aplikasi, soal, tampil, n...</td>\n",
       "      <td>0</td>\n",
       "      <td>-7</td>\n",
       "    </tr>\n",
       "    <tr>\n",
       "      <th>174</th>\n",
       "      <td>2022-02-03 08:03:28</td>\n",
       "      <td>mudah beli pulsa lain mudah aplikasi milik tam...</td>\n",
       "      <td>5</td>\n",
       "      <td>LinkAja App Store</td>\n",
       "      <td>2</td>\n",
       "      <td>[mudah, beli, pulsa, lain, mudah, aplikasi, mi...</td>\n",
       "      <td>0</td>\n",
       "      <td>-5</td>\n",
       "    </tr>\n",
       "    <tr>\n",
       "      <th>193</th>\n",
       "      <td>2022-02-03 03:46:48</td>\n",
       "      <td>ngebantu banget tampil enak liat appnya bagus</td>\n",
       "      <td>5</td>\n",
       "      <td>LinkAja App Store</td>\n",
       "      <td>2</td>\n",
       "      <td>[ngebantu, banget, tampil, enak, liat, appnya,...</td>\n",
       "      <td>0</td>\n",
       "      <td>-2</td>\n",
       "    </tr>\n",
       "    <tr>\n",
       "      <th>212</th>\n",
       "      <td>2022-02-02 14:09:28</td>\n",
       "      <td>tampil bagus</td>\n",
       "      <td>5</td>\n",
       "      <td>LinkAja App Store</td>\n",
       "      <td>2</td>\n",
       "      <td>[tampil, bagus]</td>\n",
       "      <td>0</td>\n",
       "      <td>-4</td>\n",
       "    </tr>\n",
       "    <tr>\n",
       "      <th>341</th>\n",
       "      <td>2022-01-27 06:34:42</td>\n",
       "      <td>tampil aplikasi nya keren banget banyak fitur ...</td>\n",
       "      <td>5</td>\n",
       "      <td>LinkAja App Store</td>\n",
       "      <td>2</td>\n",
       "      <td>[tampil, aplikasi, nya, keren, banget, banyak,...</td>\n",
       "      <td>0</td>\n",
       "      <td>-1</td>\n",
       "    </tr>\n",
       "    <tr>\n",
       "      <th>...</th>\n",
       "      <td>...</td>\n",
       "      <td>...</td>\n",
       "      <td>...</td>\n",
       "      <td>...</td>\n",
       "      <td>...</td>\n",
       "      <td>...</td>\n",
       "      <td>...</td>\n",
       "      <td>...</td>\n",
       "    </tr>\n",
       "    <tr>\n",
       "      <th>23270</th>\n",
       "      <td>2022-04-30 11:45:55</td>\n",
       "      <td>tampil bagus simple tarik mudah guna masyaraka...</td>\n",
       "      <td>5</td>\n",
       "      <td>OVO Google Play</td>\n",
       "      <td>2</td>\n",
       "      <td>[tampil, bagus, simple, tarik, mudah, guna, ma...</td>\n",
       "      <td>2</td>\n",
       "      <td>2</td>\n",
       "    </tr>\n",
       "    <tr>\n",
       "      <th>23436</th>\n",
       "      <td>2022-04-29 12:11:38</td>\n",
       "      <td>tampil onclik nya kluar trus pas buka ovo</td>\n",
       "      <td>3</td>\n",
       "      <td>OVO Google Play</td>\n",
       "      <td>1</td>\n",
       "      <td>[tampil, onclik, nya, kluar, trus, pas, buka, ...</td>\n",
       "      <td>2</td>\n",
       "      <td>1</td>\n",
       "    </tr>\n",
       "    <tr>\n",
       "      <th>23999</th>\n",
       "      <td>2022-04-25 23:57:41</td>\n",
       "      <td>sangat bagus aplikasi ovo update baru yah jang...</td>\n",
       "      <td>5</td>\n",
       "      <td>OVO Google Play</td>\n",
       "      <td>2</td>\n",
       "      <td>[sangat, bagus, aplikasi, ovo, update, baru, y...</td>\n",
       "      <td>0</td>\n",
       "      <td>-23</td>\n",
       "    </tr>\n",
       "    <tr>\n",
       "      <th>24948</th>\n",
       "      <td>2022-04-20 08:02:53</td>\n",
       "      <td>gimana cara tampil kan scrensut barcot qrais</td>\n",
       "      <td>4</td>\n",
       "      <td>OVO Google Play</td>\n",
       "      <td>2</td>\n",
       "      <td>[gimana, cara, tampil, kan, scrensut, barcot, ...</td>\n",
       "      <td>0</td>\n",
       "      <td>-2</td>\n",
       "    </tr>\n",
       "    <tr>\n",
       "      <th>25580</th>\n",
       "      <td>2022-04-16 06:59:33</td>\n",
       "      <td>tampil baru kece abis moga lebih manfaat</td>\n",
       "      <td>5</td>\n",
       "      <td>OVO Google Play</td>\n",
       "      <td>2</td>\n",
       "      <td>[tampil, baru, kece, abis, moga, lebih, manfaat]</td>\n",
       "      <td>2</td>\n",
       "      <td>6</td>\n",
       "    </tr>\n",
       "  </tbody>\n",
       "</table>\n",
       "<p>68 rows × 8 columns</p>\n",
       "</div>"
      ],
      "text/plain": [
       "                      date                                             review  \\\n",
       "101    2022-02-08 00:57:22  neng banget pake aplikasi soal tampil nya cant...   \n",
       "174    2022-02-03 08:03:28  mudah beli pulsa lain mudah aplikasi milik tam...   \n",
       "193    2022-02-03 03:46:48      ngebantu banget tampil enak liat appnya bagus   \n",
       "212    2022-02-02 14:09:28                                       tampil bagus   \n",
       "341    2022-01-27 06:34:42  tampil aplikasi nya keren banget banyak fitur ...   \n",
       "...                    ...                                                ...   \n",
       "23270  2022-04-30 11:45:55  tampil bagus simple tarik mudah guna masyaraka...   \n",
       "23436  2022-04-29 12:11:38          tampil onclik nya kluar trus pas buka ovo   \n",
       "23999  2022-04-25 23:57:41  sangat bagus aplikasi ovo update baru yah jang...   \n",
       "24948  2022-04-20 08:02:53       gimana cara tampil kan scrensut barcot qrais   \n",
       "25580  2022-04-16 06:59:33           tampil baru kece abis moga lebih manfaat   \n",
       "\n",
       "       rating            dataset  sentiment  \\\n",
       "101         5  LinkAja App Store          2   \n",
       "174         5  LinkAja App Store          2   \n",
       "193         5  LinkAja App Store          2   \n",
       "212         5  LinkAja App Store          2   \n",
       "341         5  LinkAja App Store          2   \n",
       "...       ...                ...        ...   \n",
       "23270       5    OVO Google Play          2   \n",
       "23436       3    OVO Google Play          1   \n",
       "23999       5    OVO Google Play          2   \n",
       "24948       4    OVO Google Play          2   \n",
       "25580       5    OVO Google Play          2   \n",
       "\n",
       "                                                   words  polarity  \\\n",
       "101    [neng, banget, pake, aplikasi, soal, tampil, n...         0   \n",
       "174    [mudah, beli, pulsa, lain, mudah, aplikasi, mi...         0   \n",
       "193    [ngebantu, banget, tampil, enak, liat, appnya,...         0   \n",
       "212                                      [tampil, bagus]         0   \n",
       "341    [tampil, aplikasi, nya, keren, banget, banyak,...         0   \n",
       "...                                                  ...       ...   \n",
       "23270  [tampil, bagus, simple, tarik, mudah, guna, ma...         2   \n",
       "23436  [tampil, onclik, nya, kluar, trus, pas, buka, ...         2   \n",
       "23999  [sangat, bagus, aplikasi, ovo, update, baru, y...         0   \n",
       "24948  [gimana, cara, tampil, kan, scrensut, barcot, ...         0   \n",
       "25580   [tampil, baru, kece, abis, moga, lebih, manfaat]         2   \n",
       "\n",
       "       polarity_score  \n",
       "101                -7  \n",
       "174                -5  \n",
       "193                -2  \n",
       "212                -4  \n",
       "341                -1  \n",
       "...               ...  \n",
       "23270               2  \n",
       "23436               1  \n",
       "23999             -23  \n",
       "24948              -2  \n",
       "25580               6  \n",
       "\n",
       "[68 rows x 8 columns]"
      ]
     },
     "execution_count": 65,
     "metadata": {},
     "output_type": "execute_result"
    }
   ],
   "source": [
    "df.loc[df['review'].str.contains('tampil', case=False)]"
   ]
  },
  {
   "cell_type": "code",
   "execution_count": 66,
   "metadata": {},
   "outputs": [
    {
     "data": {
      "text/html": [
       "<div>\n",
       "<style scoped>\n",
       "    .dataframe tbody tr th:only-of-type {\n",
       "        vertical-align: middle;\n",
       "    }\n",
       "\n",
       "    .dataframe tbody tr th {\n",
       "        vertical-align: top;\n",
       "    }\n",
       "\n",
       "    .dataframe thead th {\n",
       "        text-align: right;\n",
       "    }\n",
       "</style>\n",
       "<table border=\"1\" class=\"dataframe\">\n",
       "  <thead>\n",
       "    <tr style=\"text-align: right;\">\n",
       "      <th></th>\n",
       "      <th>date</th>\n",
       "      <th>review</th>\n",
       "      <th>rating</th>\n",
       "      <th>dataset</th>\n",
       "      <th>sentiment</th>\n",
       "      <th>words</th>\n",
       "      <th>polarity</th>\n",
       "      <th>polarity_score</th>\n",
       "    </tr>\n",
       "  </thead>\n",
       "  <tbody>\n",
       "    <tr>\n",
       "      <th>0</th>\n",
       "      <td>2022-06-07 12:18:20</td>\n",
       "      <td>susah kali top up alfamart selalu jaring repot...</td>\n",
       "      <td>2</td>\n",
       "      <td>Dana App Store</td>\n",
       "      <td>0</td>\n",
       "      <td>[susah, kali, top, up, alfamart, selalu, jarin...</td>\n",
       "      <td>1</td>\n",
       "      <td>0</td>\n",
       "    </tr>\n",
       "    <tr>\n",
       "      <th>1</th>\n",
       "      <td>2022-06-08 21:47:23</td>\n",
       "      <td>dong transfer rekening pribadi sendiri lapor h...</td>\n",
       "      <td>1</td>\n",
       "      <td>Dana Google Play</td>\n",
       "      <td>0</td>\n",
       "      <td>[dong, transfer, rekening, pribadi, sendiri, l...</td>\n",
       "      <td>2</td>\n",
       "      <td>7</td>\n",
       "    </tr>\n",
       "    <tr>\n",
       "      <th>2</th>\n",
       "      <td>2022-06-08 20:11:53</td>\n",
       "      <td>alow danakenapa email masuk atas nama ptesbiyd...</td>\n",
       "      <td>1</td>\n",
       "      <td>Dana Google Play</td>\n",
       "      <td>0</td>\n",
       "      <td>[alow, danakenapa, email, masuk, atas, nama, p...</td>\n",
       "      <td>0</td>\n",
       "      <td>-5</td>\n",
       "    </tr>\n",
       "    <tr>\n",
       "      <th>3</th>\n",
       "      <td>2022-06-08 19:55:00</td>\n",
       "      <td>sip dahhhh min</td>\n",
       "      <td>4</td>\n",
       "      <td>Dana Google Play</td>\n",
       "      <td>2</td>\n",
       "      <td>[sip, dahhhh, min]</td>\n",
       "      <td>1</td>\n",
       "      <td>0</td>\n",
       "    </tr>\n",
       "    <tr>\n",
       "      <th>4</th>\n",
       "      <td>2022-06-08 19:51:52</td>\n",
       "      <td>login kali login tanya hubung customer servis</td>\n",
       "      <td>1</td>\n",
       "      <td>Dana Google Play</td>\n",
       "      <td>0</td>\n",
       "      <td>[login, kali, login, tanya, hubung, customer, ...</td>\n",
       "      <td>2</td>\n",
       "      <td>1</td>\n",
       "    </tr>\n",
       "    <tr>\n",
       "      <th>...</th>\n",
       "      <td>...</td>\n",
       "      <td>...</td>\n",
       "      <td>...</td>\n",
       "      <td>...</td>\n",
       "      <td>...</td>\n",
       "      <td>...</td>\n",
       "      <td>...</td>\n",
       "      <td>...</td>\n",
       "    </tr>\n",
       "    <tr>\n",
       "      <th>25611</th>\n",
       "      <td>2022-04-16 00:47:08</td>\n",
       "      <td>ga transfer semua bank sangat kecewa</td>\n",
       "      <td>1</td>\n",
       "      <td>OVO Google Play</td>\n",
       "      <td>0</td>\n",
       "      <td>[ga, transfer, semua, bank, sangat, kecewa]</td>\n",
       "      <td>0</td>\n",
       "      <td>-5</td>\n",
       "    </tr>\n",
       "    <tr>\n",
       "      <th>25612</th>\n",
       "      <td>2022-04-16 00:42:45</td>\n",
       "      <td>baik login selalu gagal hapus trus donwload ul...</td>\n",
       "      <td>1</td>\n",
       "      <td>OVO Google Play</td>\n",
       "      <td>0</td>\n",
       "      <td>[baik, login, selalu, gagal, hapus, trus, donw...</td>\n",
       "      <td>0</td>\n",
       "      <td>-7</td>\n",
       "    </tr>\n",
       "    <tr>\n",
       "      <th>25613</th>\n",
       "      <td>2022-04-16 00:39:37</td>\n",
       "      <td>kurang puas</td>\n",
       "      <td>1</td>\n",
       "      <td>OVO Google Play</td>\n",
       "      <td>0</td>\n",
       "      <td>[kurang, puas]</td>\n",
       "      <td>1</td>\n",
       "      <td>0</td>\n",
       "    </tr>\n",
       "    <tr>\n",
       "      <th>25614</th>\n",
       "      <td>2022-04-16 00:24:37</td>\n",
       "      <td>jangan pakai ovo layan masalah sangat lelet gu...</td>\n",
       "      <td>1</td>\n",
       "      <td>OVO Google Play</td>\n",
       "      <td>0</td>\n",
       "      <td>[jangan, pakai, ovo, layan, masalah, sangat, l...</td>\n",
       "      <td>0</td>\n",
       "      <td>-38</td>\n",
       "    </tr>\n",
       "    <tr>\n",
       "      <th>25615</th>\n",
       "      <td>2022-04-16 00:11:36</td>\n",
       "      <td>udah lama gak gunain mau transfer aja parah si</td>\n",
       "      <td>1</td>\n",
       "      <td>OVO Google Play</td>\n",
       "      <td>0</td>\n",
       "      <td>[udah, lama, gak, gunain, mau, transfer, aja, ...</td>\n",
       "      <td>0</td>\n",
       "      <td>-5</td>\n",
       "    </tr>\n",
       "  </tbody>\n",
       "</table>\n",
       "<p>25616 rows × 8 columns</p>\n",
       "</div>"
      ],
      "text/plain": [
       "                      date                                             review  \\\n",
       "0      2022-06-07 12:18:20  susah kali top up alfamart selalu jaring repot...   \n",
       "1      2022-06-08 21:47:23  dong transfer rekening pribadi sendiri lapor h...   \n",
       "2      2022-06-08 20:11:53  alow danakenapa email masuk atas nama ptesbiyd...   \n",
       "3      2022-06-08 19:55:00                                     sip dahhhh min   \n",
       "4      2022-06-08 19:51:52      login kali login tanya hubung customer servis   \n",
       "...                    ...                                                ...   \n",
       "25611  2022-04-16 00:47:08               ga transfer semua bank sangat kecewa   \n",
       "25612  2022-04-16 00:42:45  baik login selalu gagal hapus trus donwload ul...   \n",
       "25613  2022-04-16 00:39:37                                        kurang puas   \n",
       "25614  2022-04-16 00:24:37  jangan pakai ovo layan masalah sangat lelet gu...   \n",
       "25615  2022-04-16 00:11:36     udah lama gak gunain mau transfer aja parah si   \n",
       "\n",
       "       rating           dataset  sentiment  \\\n",
       "0           2    Dana App Store          0   \n",
       "1           1  Dana Google Play          0   \n",
       "2           1  Dana Google Play          0   \n",
       "3           4  Dana Google Play          2   \n",
       "4           1  Dana Google Play          0   \n",
       "...       ...               ...        ...   \n",
       "25611       1   OVO Google Play          0   \n",
       "25612       1   OVO Google Play          0   \n",
       "25613       1   OVO Google Play          0   \n",
       "25614       1   OVO Google Play          0   \n",
       "25615       1   OVO Google Play          0   \n",
       "\n",
       "                                                   words  polarity  \\\n",
       "0      [susah, kali, top, up, alfamart, selalu, jarin...         1   \n",
       "1      [dong, transfer, rekening, pribadi, sendiri, l...         2   \n",
       "2      [alow, danakenapa, email, masuk, atas, nama, p...         0   \n",
       "3                                     [sip, dahhhh, min]         1   \n",
       "4      [login, kali, login, tanya, hubung, customer, ...         2   \n",
       "...                                                  ...       ...   \n",
       "25611        [ga, transfer, semua, bank, sangat, kecewa]         0   \n",
       "25612  [baik, login, selalu, gagal, hapus, trus, donw...         0   \n",
       "25613                                     [kurang, puas]         1   \n",
       "25614  [jangan, pakai, ovo, layan, masalah, sangat, l...         0   \n",
       "25615  [udah, lama, gak, gunain, mau, transfer, aja, ...         0   \n",
       "\n",
       "       polarity_score  \n",
       "0                   0  \n",
       "1                   7  \n",
       "2                  -5  \n",
       "3                   0  \n",
       "4                   1  \n",
       "...               ...  \n",
       "25611              -5  \n",
       "25612              -7  \n",
       "25613               0  \n",
       "25614             -38  \n",
       "25615              -5  \n",
       "\n",
       "[25616 rows x 8 columns]"
      ]
     },
     "execution_count": 66,
     "metadata": {},
     "output_type": "execute_result"
    }
   ],
   "source": [
    "df"
   ]
  },
  {
   "cell_type": "markdown",
   "metadata": {},
   "source": [
    "## Insight and Visualization"
   ]
  },
  {
   "cell_type": "code",
   "execution_count": 67,
   "metadata": {},
   "outputs": [],
   "source": [
    "def sent_name(data):\n",
    "    if data == 0:\n",
    "        return 'Negative'\n",
    "    elif data == 1:\n",
    "        return 'Neutral'\n",
    "    else:\n",
    "        return 'Positive'"
   ]
  },
  {
   "cell_type": "code",
   "execution_count": 68,
   "metadata": {},
   "outputs": [],
   "source": [
    "def appname(data):\n",
    "    if 'Dana' in data:\n",
    "        return 'Dana'\n",
    "    elif 'OVO' in data:\n",
    "        return 'OVO'\n",
    "    else:\n",
    "        return 'LinkAja'"
   ]
  },
  {
   "cell_type": "code",
   "execution_count": 69,
   "metadata": {},
   "outputs": [],
   "source": [
    "def storename(data):\n",
    "    if 'App Store' in data:\n",
    "        return 'Apple App Store'\n",
    "    else:\n",
    "        return 'Google Play Store'"
   ]
  },
  {
   "cell_type": "code",
   "execution_count": 70,
   "metadata": {},
   "outputs": [
    {
     "data": {
      "application/vnd.jupyter.widget-view+json": {
       "model_id": "8c2e07306dae4644a41dcbf0b9589cd3",
       "version_major": 2,
       "version_minor": 0
      },
      "text/plain": [
       "HBox(children=(HTML(value=''), FloatProgress(value=0.0, max=25616.0), HTML(value='')))"
      ]
     },
     "metadata": {},
     "output_type": "display_data"
    },
    {
     "name": "stdout",
     "output_type": "stream",
     "text": [
      "\n"
     ]
    }
   ],
   "source": [
    "df['sentiment_name']= df['polarity'].progress_apply(sent_name)"
   ]
  },
  {
   "cell_type": "code",
   "execution_count": 71,
   "metadata": {},
   "outputs": [
    {
     "data": {
      "application/vnd.jupyter.widget-view+json": {
       "model_id": "583bf5a15fa94923af24594deae08842",
       "version_major": 2,
       "version_minor": 0
      },
      "text/plain": [
       "HBox(children=(HTML(value=''), FloatProgress(value=0.0, max=25616.0), HTML(value='')))"
      ]
     },
     "metadata": {},
     "output_type": "display_data"
    },
    {
     "name": "stdout",
     "output_type": "stream",
     "text": [
      "\n"
     ]
    }
   ],
   "source": [
    "df['App']= df['dataset'].progress_apply(appname)"
   ]
  },
  {
   "cell_type": "code",
   "execution_count": 72,
   "metadata": {},
   "outputs": [
    {
     "data": {
      "application/vnd.jupyter.widget-view+json": {
       "model_id": "fbe77e5927434da69b51208d68c4aae2",
       "version_major": 2,
       "version_minor": 0
      },
      "text/plain": [
       "HBox(children=(HTML(value=''), FloatProgress(value=0.0, max=25616.0), HTML(value='')))"
      ]
     },
     "metadata": {},
     "output_type": "display_data"
    },
    {
     "name": "stdout",
     "output_type": "stream",
     "text": [
      "\n"
     ]
    }
   ],
   "source": [
    "df['App Store']= df['dataset'].progress_apply(storename)"
   ]
  },
  {
   "cell_type": "code",
   "execution_count": 73,
   "metadata": {},
   "outputs": [
    {
     "data": {
      "text/html": [
       "<div>\n",
       "<style scoped>\n",
       "    .dataframe tbody tr th:only-of-type {\n",
       "        vertical-align: middle;\n",
       "    }\n",
       "\n",
       "    .dataframe tbody tr th {\n",
       "        vertical-align: top;\n",
       "    }\n",
       "\n",
       "    .dataframe thead th {\n",
       "        text-align: right;\n",
       "    }\n",
       "</style>\n",
       "<table border=\"1\" class=\"dataframe\">\n",
       "  <thead>\n",
       "    <tr style=\"text-align: right;\">\n",
       "      <th></th>\n",
       "      <th>date</th>\n",
       "      <th>review</th>\n",
       "      <th>rating</th>\n",
       "      <th>dataset</th>\n",
       "      <th>sentiment</th>\n",
       "      <th>words</th>\n",
       "      <th>polarity</th>\n",
       "      <th>polarity_score</th>\n",
       "      <th>sentiment_name</th>\n",
       "      <th>App</th>\n",
       "      <th>App Store</th>\n",
       "    </tr>\n",
       "  </thead>\n",
       "  <tbody>\n",
       "    <tr>\n",
       "      <th>0</th>\n",
       "      <td>2022-06-07 12:18:20</td>\n",
       "      <td>susah kali top up alfamart selalu jaring repot...</td>\n",
       "      <td>2</td>\n",
       "      <td>Dana App Store</td>\n",
       "      <td>0</td>\n",
       "      <td>[susah, kali, top, up, alfamart, selalu, jarin...</td>\n",
       "      <td>1</td>\n",
       "      <td>0</td>\n",
       "      <td>Neutral</td>\n",
       "      <td>Dana</td>\n",
       "      <td>Apple App Store</td>\n",
       "    </tr>\n",
       "    <tr>\n",
       "      <th>1</th>\n",
       "      <td>2022-06-08 21:47:23</td>\n",
       "      <td>dong transfer rekening pribadi sendiri lapor h...</td>\n",
       "      <td>1</td>\n",
       "      <td>Dana Google Play</td>\n",
       "      <td>0</td>\n",
       "      <td>[dong, transfer, rekening, pribadi, sendiri, l...</td>\n",
       "      <td>2</td>\n",
       "      <td>7</td>\n",
       "      <td>Positive</td>\n",
       "      <td>Dana</td>\n",
       "      <td>Google Play Store</td>\n",
       "    </tr>\n",
       "    <tr>\n",
       "      <th>2</th>\n",
       "      <td>2022-06-08 20:11:53</td>\n",
       "      <td>alow danakenapa email masuk atas nama ptesbiyd...</td>\n",
       "      <td>1</td>\n",
       "      <td>Dana Google Play</td>\n",
       "      <td>0</td>\n",
       "      <td>[alow, danakenapa, email, masuk, atas, nama, p...</td>\n",
       "      <td>0</td>\n",
       "      <td>-5</td>\n",
       "      <td>Negative</td>\n",
       "      <td>Dana</td>\n",
       "      <td>Google Play Store</td>\n",
       "    </tr>\n",
       "    <tr>\n",
       "      <th>3</th>\n",
       "      <td>2022-06-08 19:55:00</td>\n",
       "      <td>sip dahhhh min</td>\n",
       "      <td>4</td>\n",
       "      <td>Dana Google Play</td>\n",
       "      <td>2</td>\n",
       "      <td>[sip, dahhhh, min]</td>\n",
       "      <td>1</td>\n",
       "      <td>0</td>\n",
       "      <td>Neutral</td>\n",
       "      <td>Dana</td>\n",
       "      <td>Google Play Store</td>\n",
       "    </tr>\n",
       "    <tr>\n",
       "      <th>4</th>\n",
       "      <td>2022-06-08 19:51:52</td>\n",
       "      <td>login kali login tanya hubung customer servis</td>\n",
       "      <td>1</td>\n",
       "      <td>Dana Google Play</td>\n",
       "      <td>0</td>\n",
       "      <td>[login, kali, login, tanya, hubung, customer, ...</td>\n",
       "      <td>2</td>\n",
       "      <td>1</td>\n",
       "      <td>Positive</td>\n",
       "      <td>Dana</td>\n",
       "      <td>Google Play Store</td>\n",
       "    </tr>\n",
       "    <tr>\n",
       "      <th>...</th>\n",
       "      <td>...</td>\n",
       "      <td>...</td>\n",
       "      <td>...</td>\n",
       "      <td>...</td>\n",
       "      <td>...</td>\n",
       "      <td>...</td>\n",
       "      <td>...</td>\n",
       "      <td>...</td>\n",
       "      <td>...</td>\n",
       "      <td>...</td>\n",
       "      <td>...</td>\n",
       "    </tr>\n",
       "    <tr>\n",
       "      <th>25611</th>\n",
       "      <td>2022-04-16 00:47:08</td>\n",
       "      <td>ga transfer semua bank sangat kecewa</td>\n",
       "      <td>1</td>\n",
       "      <td>OVO Google Play</td>\n",
       "      <td>0</td>\n",
       "      <td>[ga, transfer, semua, bank, sangat, kecewa]</td>\n",
       "      <td>0</td>\n",
       "      <td>-5</td>\n",
       "      <td>Negative</td>\n",
       "      <td>OVO</td>\n",
       "      <td>Google Play Store</td>\n",
       "    </tr>\n",
       "    <tr>\n",
       "      <th>25612</th>\n",
       "      <td>2022-04-16 00:42:45</td>\n",
       "      <td>baik login selalu gagal hapus trus donwload ul...</td>\n",
       "      <td>1</td>\n",
       "      <td>OVO Google Play</td>\n",
       "      <td>0</td>\n",
       "      <td>[baik, login, selalu, gagal, hapus, trus, donw...</td>\n",
       "      <td>0</td>\n",
       "      <td>-7</td>\n",
       "      <td>Negative</td>\n",
       "      <td>OVO</td>\n",
       "      <td>Google Play Store</td>\n",
       "    </tr>\n",
       "    <tr>\n",
       "      <th>25613</th>\n",
       "      <td>2022-04-16 00:39:37</td>\n",
       "      <td>kurang puas</td>\n",
       "      <td>1</td>\n",
       "      <td>OVO Google Play</td>\n",
       "      <td>0</td>\n",
       "      <td>[kurang, puas]</td>\n",
       "      <td>1</td>\n",
       "      <td>0</td>\n",
       "      <td>Neutral</td>\n",
       "      <td>OVO</td>\n",
       "      <td>Google Play Store</td>\n",
       "    </tr>\n",
       "    <tr>\n",
       "      <th>25614</th>\n",
       "      <td>2022-04-16 00:24:37</td>\n",
       "      <td>jangan pakai ovo layan masalah sangat lelet gu...</td>\n",
       "      <td>1</td>\n",
       "      <td>OVO Google Play</td>\n",
       "      <td>0</td>\n",
       "      <td>[jangan, pakai, ovo, layan, masalah, sangat, l...</td>\n",
       "      <td>0</td>\n",
       "      <td>-38</td>\n",
       "      <td>Negative</td>\n",
       "      <td>OVO</td>\n",
       "      <td>Google Play Store</td>\n",
       "    </tr>\n",
       "    <tr>\n",
       "      <th>25615</th>\n",
       "      <td>2022-04-16 00:11:36</td>\n",
       "      <td>udah lama gak gunain mau transfer aja parah si</td>\n",
       "      <td>1</td>\n",
       "      <td>OVO Google Play</td>\n",
       "      <td>0</td>\n",
       "      <td>[udah, lama, gak, gunain, mau, transfer, aja, ...</td>\n",
       "      <td>0</td>\n",
       "      <td>-5</td>\n",
       "      <td>Negative</td>\n",
       "      <td>OVO</td>\n",
       "      <td>Google Play Store</td>\n",
       "    </tr>\n",
       "  </tbody>\n",
       "</table>\n",
       "<p>25616 rows × 11 columns</p>\n",
       "</div>"
      ],
      "text/plain": [
       "                      date                                             review  \\\n",
       "0      2022-06-07 12:18:20  susah kali top up alfamart selalu jaring repot...   \n",
       "1      2022-06-08 21:47:23  dong transfer rekening pribadi sendiri lapor h...   \n",
       "2      2022-06-08 20:11:53  alow danakenapa email masuk atas nama ptesbiyd...   \n",
       "3      2022-06-08 19:55:00                                     sip dahhhh min   \n",
       "4      2022-06-08 19:51:52      login kali login tanya hubung customer servis   \n",
       "...                    ...                                                ...   \n",
       "25611  2022-04-16 00:47:08               ga transfer semua bank sangat kecewa   \n",
       "25612  2022-04-16 00:42:45  baik login selalu gagal hapus trus donwload ul...   \n",
       "25613  2022-04-16 00:39:37                                        kurang puas   \n",
       "25614  2022-04-16 00:24:37  jangan pakai ovo layan masalah sangat lelet gu...   \n",
       "25615  2022-04-16 00:11:36     udah lama gak gunain mau transfer aja parah si   \n",
       "\n",
       "       rating           dataset  sentiment  \\\n",
       "0           2    Dana App Store          0   \n",
       "1           1  Dana Google Play          0   \n",
       "2           1  Dana Google Play          0   \n",
       "3           4  Dana Google Play          2   \n",
       "4           1  Dana Google Play          0   \n",
       "...       ...               ...        ...   \n",
       "25611       1   OVO Google Play          0   \n",
       "25612       1   OVO Google Play          0   \n",
       "25613       1   OVO Google Play          0   \n",
       "25614       1   OVO Google Play          0   \n",
       "25615       1   OVO Google Play          0   \n",
       "\n",
       "                                                   words  polarity  \\\n",
       "0      [susah, kali, top, up, alfamart, selalu, jarin...         1   \n",
       "1      [dong, transfer, rekening, pribadi, sendiri, l...         2   \n",
       "2      [alow, danakenapa, email, masuk, atas, nama, p...         0   \n",
       "3                                     [sip, dahhhh, min]         1   \n",
       "4      [login, kali, login, tanya, hubung, customer, ...         2   \n",
       "...                                                  ...       ...   \n",
       "25611        [ga, transfer, semua, bank, sangat, kecewa]         0   \n",
       "25612  [baik, login, selalu, gagal, hapus, trus, donw...         0   \n",
       "25613                                     [kurang, puas]         1   \n",
       "25614  [jangan, pakai, ovo, layan, masalah, sangat, l...         0   \n",
       "25615  [udah, lama, gak, gunain, mau, transfer, aja, ...         0   \n",
       "\n",
       "       polarity_score sentiment_name   App          App Store  \n",
       "0                   0        Neutral  Dana    Apple App Store  \n",
       "1                   7       Positive  Dana  Google Play Store  \n",
       "2                  -5       Negative  Dana  Google Play Store  \n",
       "3                   0        Neutral  Dana  Google Play Store  \n",
       "4                   1       Positive  Dana  Google Play Store  \n",
       "...               ...            ...   ...                ...  \n",
       "25611              -5       Negative   OVO  Google Play Store  \n",
       "25612              -7       Negative   OVO  Google Play Store  \n",
       "25613               0        Neutral   OVO  Google Play Store  \n",
       "25614             -38       Negative   OVO  Google Play Store  \n",
       "25615              -5       Negative   OVO  Google Play Store  \n",
       "\n",
       "[25616 rows x 11 columns]"
      ]
     },
     "execution_count": 73,
     "metadata": {},
     "output_type": "execute_result"
    }
   ],
   "source": [
    "df"
   ]
  },
  {
   "cell_type": "code",
   "execution_count": 75,
   "metadata": {},
   "outputs": [
    {
     "data": {
      "text/plain": [
       "<Figure size 720x576 with 0 Axes>"
      ]
     },
     "metadata": {},
     "output_type": "display_data"
    },
    {
     "data": {
      "image/png": "[encoded data removed]",
      "text/plain": [
       "<Figure size 729.175x288 with 3 Axes>"
      ]
     },
     "metadata": {
      "needs_background": "light"
     },
     "output_type": "display_data"
    }
   ],
   "source": [
    "plt.figure(figsize=(10, 8))\n",
    "sns.catplot(x=\"sentiment_name\", hue=\"App Store\", col=\"App\",\n",
    "                data=df, kind=\"count\",\n",
    "                height=4, aspect=.7);\n",
    "plt.savefig(\"Best Sentiment both appstore.png\")"
   ]
  },
  {
   "cell_type": "code",
   "execution_count": 76,
   "metadata": {},
   "outputs": [
    {
     "data": {
      "image/png": "[encoded data removed]",
      "text/plain": [
       "<Figure size 451.75x360 with 1 Axes>"
      ]
     },
     "metadata": {
      "needs_background": "light"
     },
     "output_type": "display_data"
    }
   ],
   "source": [
    "x,y = 'App', 'sentiment_name'\n",
    "\n",
    "df1 = df.groupby(x)[y].value_counts(normalize=True)\n",
    "df1 = df1.mul(100)\n",
    "df1 = df1.rename('percent').reset_index()\n",
    "\n",
    "g = sns.catplot(x=x,y='percent',hue=y,kind='bar',data=df1)\n",
    "g.ax.set_ylim(0,100)\n",
    "\n",
    "for p in g.ax.patches:\n",
    "    txt = str(p.get_height().round(2)) + '%'\n",
    "    txt_x = p.get_x() \n",
    "    txt_y = p.get_height()\n",
    "    g.ax.text(txt_x,txt_y,txt)"
   ]
  },
  {
   "cell_type": "code",
   "execution_count": 77,
   "metadata": {},
   "outputs": [],
   "source": [
    "g.savefig(\"output.png\")"
   ]
  },
  {
   "cell_type": "code",
   "execution_count": 78,
   "metadata": {},
   "outputs": [],
   "source": [
    "dfIT = df.loc[df['App Store'] == 'Apple App Store']\n",
    "dfGP = df.loc[df['App Store'] == 'Google Play Store']"
   ]
  },
  {
   "cell_type": "code",
   "execution_count": 79,
   "metadata": {},
   "outputs": [
    {
     "data": {
      "image/png": "[encoded data removed]",
      "text/plain": [
       "<Figure size 432x432 with 1 Axes>"
      ]
     },
     "metadata": {},
     "output_type": "display_data"
    }
   ],
   "source": [
    "fig, ax = plt.subplots(figsize = (6, 6))\n",
    "sizes = [count for count in dfIT['sentiment_name'].value_counts()]\n",
    "labels = list(dfIT['sentiment_name'].value_counts().index)\n",
    "explode = (0.1, 0, 0)\n",
    "ax.pie(x = sizes, labels = labels, autopct = '%1.1f%%', explode = explode, textprops={'fontsize': 14})\n",
    "ax.set_title('Sentiment Apple App Store', fontsize = 16, pad = 20)\n",
    "plt.show()\n",
    "fig.savefig(\"apple_sentiment.png\")"
   ]
  },
  {
   "cell_type": "code",
   "execution_count": 80,
   "metadata": {
    "scrolled": true
   },
   "outputs": [
    {
     "data": {
      "image/png": "[encoded data removed]",
      "text/plain": [
       "<Figure size 432x432 with 1 Axes>"
      ]
     },
     "metadata": {},
     "output_type": "display_data"
    }
   ],
   "source": [
    "fig, ax = plt.subplots(figsize = (6, 6))\n",
    "sizes = [count for count in dfGP['sentiment_name'].value_counts()]\n",
    "labels = list(dfGP['sentiment_name'].value_counts().index)\n",
    "explode = (0.1, 0, 0)\n",
    "ax.pie(x = sizes, labels = labels, autopct = '%1.1f%%', explode = explode, textprops={'fontsize': 14})\n",
    "ax.set_title('Sentiment Google Play Store', fontsize = 16, pad = 20)\n",
    "plt.show()\n",
    "fig.savefig(\"google_sentiment.png\")"
   ]
  },
  {
   "cell_type": "markdown",
   "metadata": {},
   "source": [
    "Common Words Bar Chart Data Preparation"
   ]
  },
  {
   "cell_type": "code",
   "execution_count": 116,
   "metadata": {},
   "outputs": [],
   "source": [
    "cw_dana_neg = df['words'].loc[(df['dataset'].str.contains('Dana', case=False)) & (df['sentiment'] == 0)]\n",
    "cw_dana_pos = df['words'].loc[(df['dataset'].str.contains('Dana', case=False)) & (df['sentiment'] == 2)]\n",
    "cw_ovo_neg = df['words'].loc[(df['dataset'].str.contains('OVO', case=False)) & (df['sentiment'] == 0)]\n",
    "cw_ovo_pos = df['words'].loc[(df['dataset'].str.contains('OVO', case=False)) & (df['sentiment'] == 2)]\n",
    "cw_linkaja_neg = df['words'].loc[(df['dataset'].str.contains('LinkAja', case=False)) & (df['sentiment'] == 0)]\n",
    "cw_linkaja_pos = df['words'].loc[(df['dataset'].str.contains('LinkAja', case=False)) & (df['sentiment'] == 2)]"
   ]
  },
  {
   "cell_type": "code",
   "execution_count": 117,
   "metadata": {},
   "outputs": [],
   "source": [
    "cw_dana_neg = list(cw_dana_neg)\n",
    "cw_dana_pos = list(cw_dana_pos)\n",
    "cw_ovo_neg = list(cw_ovo_neg)\n",
    "cw_ovo_pos = list(cw_ovo_pos)\n",
    "cw_linkaja_neg = list(cw_linkaja_neg)\n",
    "cw_linkaja_pos = list(cw_linkaja_pos)"
   ]
  },
  {
   "cell_type": "code",
   "execution_count": 118,
   "metadata": {},
   "outputs": [],
   "source": [
    "import collections\n",
    "import itertools"
   ]
  },
  {
   "cell_type": "code",
   "execution_count": 119,
   "metadata": {},
   "outputs": [],
   "source": [
    "cw_dana_pos = list(itertools.chain(*cw_dana_pos))"
   ]
  },
  {
   "cell_type": "code",
   "execution_count": 120,
   "metadata": {},
   "outputs": [],
   "source": [
    "cw_dana_neg = list(itertools.chain(*cw_dana_neg))"
   ]
  },
  {
   "cell_type": "code",
   "execution_count": 121,
   "metadata": {},
   "outputs": [],
   "source": [
    "cw_ovo_neg = list(itertools.chain(*cw_ovo_neg))"
   ]
  },
  {
   "cell_type": "code",
   "execution_count": 122,
   "metadata": {},
   "outputs": [],
   "source": [
    "cw_ovo_pos = list(itertools.chain(*cw_ovo_pos))"
   ]
  },
  {
   "cell_type": "code",
   "execution_count": 123,
   "metadata": {},
   "outputs": [],
   "source": [
    "cw_linkaja_neg = list(itertools.chain(*cw_linkaja_neg))"
   ]
  },
  {
   "cell_type": "code",
   "execution_count": 124,
   "metadata": {},
   "outputs": [],
   "source": [
    "cw_linkaja_pos = list(itertools.chain(*cw_linkaja_pos))"
   ]
  },
  {
   "cell_type": "markdown",
   "metadata": {},
   "source": [
    "Dana Common Words"
   ]
  },
  {
   "cell_type": "code",
   "execution_count": 125,
   "metadata": {},
   "outputs": [
    {
     "data": {
      "text/plain": [
       "[('dana', 2372),\n",
       " ('masuk', 1046),\n",
       " ('aplikasi', 951),\n",
       " ('nya', 863),\n",
       " ('saldo', 841),\n",
       " ('ga', 833),\n",
       " ('gak', 744),\n",
       " ('mau', 724),\n",
       " ('uang', 712),\n",
       " ('udah', 519),\n",
       " ('transfer', 508),\n",
       " ('lama', 486),\n",
       " ('up', 477),\n",
       " ('transaksi', 470),\n",
       " ('aja', 457)]"
      ]
     },
     "execution_count": 125,
     "metadata": {},
     "output_type": "execute_result"
    }
   ],
   "source": [
    "common_dana_neg = collections.Counter(cw_dana_neg)\n",
    "\n",
    "common_dana_neg.most_common(15)"
   ]
  },
  {
   "cell_type": "code",
   "execution_count": 126,
   "metadata": {},
   "outputs": [],
   "source": [
    "dana_neg = pd.DataFrame(common_dana_neg.most_common(15),\n",
    "                             columns=['words', 'count'])"
   ]
  },
  {
   "cell_type": "code",
   "execution_count": 127,
   "metadata": {},
   "outputs": [
    {
     "data": {
      "text/plain": [
       "[('dana', 1246),\n",
       " ('sangat', 807),\n",
       " ('aplikasi', 548),\n",
       " ('bantu', 526),\n",
       " ('mudah', 451),\n",
       " ('bagus', 414),\n",
       " ('nya', 369),\n",
       " ('transaksi', 357),\n",
       " ('transfer', 275),\n",
       " ('mantap', 241),\n",
       " ('baik', 230),\n",
       " ('guna', 199),\n",
       " ('banget', 198),\n",
       " ('buat', 196),\n",
       " ('uang', 195)]"
      ]
     },
     "execution_count": 127,
     "metadata": {},
     "output_type": "execute_result"
    }
   ],
   "source": [
    "common_dana_pos = collections.Counter(cw_dana_pos)\n",
    "\n",
    "common_dana_pos.most_common(15)"
   ]
  },
  {
   "cell_type": "code",
   "execution_count": 128,
   "metadata": {},
   "outputs": [],
   "source": [
    "dana_pos = pd.DataFrame(common_dana_pos.most_common(15),\n",
    "                             columns=['words', 'count'])"
   ]
  },
  {
   "cell_type": "code",
   "execution_count": 129,
   "metadata": {},
   "outputs": [
    {
     "data": {
      "image/png": "[encoded data removed]",
      "text/plain": [
       "<Figure size 576x576 with 1 Axes>"
      ]
     },
     "metadata": {
      "needs_background": "light"
     },
     "output_type": "display_data"
    }
   ],
   "source": [
    "fig, ax = plt.subplots(figsize=(8, 8))\n",
    "\n",
    "# Plot horizontal bar graph\n",
    "dana_neg.sort_values(by='count').plot.barh(x='words',\n",
    "                      y='count',\n",
    "                      ax=ax,\n",
    "                      color=\"orangered\")\n",
    "\n",
    "ax.set_title(\"Common Words in Negative Dana Reviews\")\n",
    "\n",
    "plt.show()"
   ]
  },
  {
   "cell_type": "code",
   "execution_count": 130,
   "metadata": {},
   "outputs": [
    {
     "data": {
      "image/png": "[encoded data removed]",
      "text/plain": [
       "<Figure size 576x576 with 1 Axes>"
      ]
     },
     "metadata": {
      "needs_background": "light"
     },
     "output_type": "display_data"
    }
   ],
   "source": [
    "fig2, ax = plt.subplots(figsize=(8, 8))\n",
    "\n",
    "# Plot horizontal bar graph\n",
    "dana_pos.sort_values(by='count').plot.barh(x='words',\n",
    "                      y='count',\n",
    "                      ax=ax,\n",
    "                      color=\"green\")\n",
    "\n",
    "ax.set_title(\"Common Words in Positive Dana Reviews\")\n",
    "\n",
    "plt.show()"
   ]
  },
  {
   "cell_type": "markdown",
   "metadata": {},
   "source": [
    "OVO Common Words"
   ]
  },
  {
   "cell_type": "code",
   "execution_count": 131,
   "metadata": {},
   "outputs": [
    {
     "data": {
      "text/plain": [
       "[('ovo', 2906),\n",
       " ('aplikasi', 1385),\n",
       " ('transfer', 1278),\n",
       " ('mau', 1262),\n",
       " ('nya', 1130),\n",
       " ('masuk', 1104),\n",
       " ('gak', 1096),\n",
       " ('ga', 1008),\n",
       " ('saldo', 990),\n",
       " ('aja', 905),\n",
       " ('gagal', 862),\n",
       " ('udah', 792),\n",
       " ('susah', 711),\n",
       " ('padahal', 682),\n",
       " ('sama', 677)]"
      ]
     },
     "execution_count": 131,
     "metadata": {},
     "output_type": "execute_result"
    }
   ],
   "source": [
    "common_ovo_neg = collections.Counter(cw_ovo_neg)\n",
    "\n",
    "common_ovo_neg.most_common(15)"
   ]
  },
  {
   "cell_type": "code",
   "execution_count": 132,
   "metadata": {},
   "outputs": [],
   "source": [
    "ovo_neg = pd.DataFrame(common_ovo_neg.most_common(15),\n",
    "                             columns=['words', 'count'])"
   ]
  },
  {
   "cell_type": "code",
   "execution_count": 133,
   "metadata": {},
   "outputs": [
    {
     "data": {
      "text/plain": [
       "[('ovo', 813),\n",
       " ('sangat', 381),\n",
       " ('aplikasi', 316),\n",
       " ('bagus', 272),\n",
       " ('nya', 261),\n",
       " ('mudah', 255),\n",
       " ('bantu', 248),\n",
       " ('transaksi', 216),\n",
       " ('transfer', 169),\n",
       " ('baik', 155),\n",
       " ('guna', 147),\n",
       " ('yg', 127),\n",
       " ('bayar', 123),\n",
       " ('lebih', 114),\n",
       " ('mau', 112)]"
      ]
     },
     "execution_count": 133,
     "metadata": {},
     "output_type": "execute_result"
    }
   ],
   "source": [
    "common_ovo_pos = collections.Counter(cw_ovo_pos)\n",
    "\n",
    "common_ovo_pos.most_common(15)"
   ]
  },
  {
   "cell_type": "code",
   "execution_count": 134,
   "metadata": {},
   "outputs": [],
   "source": [
    "ovo_pos = pd.DataFrame(common_ovo_pos.most_common(15),\n",
    "                             columns=['words', 'count'])"
   ]
  },
  {
   "cell_type": "code",
   "execution_count": 135,
   "metadata": {},
   "outputs": [
    {
     "data": {
      "image/png": "[encoded data removed]",
      "text/plain": [
       "<Figure size 576x576 with 1 Axes>"
      ]
     },
     "metadata": {
      "needs_background": "light"
     },
     "output_type": "display_data"
    }
   ],
   "source": [
    "fig, ax = plt.subplots(figsize=(8, 8))\n",
    "\n",
    "# Plot horizontal bar graph\n",
    "ovo_neg.sort_values(by='count').plot.barh(x='words',\n",
    "                      y='count',\n",
    "                      ax=ax,\n",
    "                      color=\"orangered\")\n",
    "\n",
    "ax.set_title(\"Common Words in Negative OVO Reviews\")\n",
    "\n",
    "plt.show()"
   ]
  },
  {
   "cell_type": "code",
   "execution_count": 136,
   "metadata": {},
   "outputs": [
    {
     "data": {
      "image/png": "[encoded data removed]",
      "text/plain": [
       "<Figure size 576x576 with 1 Axes>"
      ]
     },
     "metadata": {
      "needs_background": "light"
     },
     "output_type": "display_data"
    }
   ],
   "source": [
    "fig2, ax = plt.subplots(figsize=(8, 8))\n",
    "\n",
    "# Plot horizontal bar graph\n",
    "ovo_pos.sort_values(by='count').plot.barh(x='words',\n",
    "                      y='count',\n",
    "                      ax=ax,\n",
    "                      color=\"green\")\n",
    "\n",
    "ax.set_title(\"Common Words in Positive OVO Reviews\")\n",
    "\n",
    "plt.show()"
   ]
  },
  {
   "cell_type": "markdown",
   "metadata": {},
   "source": [
    "Link Aja Common Words"
   ]
  },
  {
   "cell_type": "code",
   "execution_count": 137,
   "metadata": {},
   "outputs": [
    {
     "data": {
      "text/plain": [
       "[('aplikasi', 920),\n",
       " ('aja', 857),\n",
       " ('saldo', 746),\n",
       " ('masuk', 690),\n",
       " ('gak', 682),\n",
       " ('nya', 598),\n",
       " ('link', 579),\n",
       " ('mau', 557),\n",
       " ('otomatis', 546),\n",
       " ('ga', 513),\n",
       " ('jam', 502),\n",
       " ('padahal', 494),\n",
       " ('udah', 480),\n",
       " ('buka', 431),\n",
       " ('linkaja', 406)]"
      ]
     },
     "execution_count": 137,
     "metadata": {},
     "output_type": "execute_result"
    }
   ],
   "source": [
    "common_linkaja_neg = collections.Counter(cw_linkaja_neg)\n",
    "\n",
    "common_linkaja_neg.most_common(15)"
   ]
  },
  {
   "cell_type": "code",
   "execution_count": 138,
   "metadata": {},
   "outputs": [],
   "source": [
    "linkaja_neg = pd.DataFrame(common_linkaja_neg.most_common(15),\n",
    "                             columns=['words', 'count'])"
   ]
  },
  {
   "cell_type": "code",
   "execution_count": 139,
   "metadata": {},
   "outputs": [
    {
     "data": {
      "text/plain": [
       "[('aplikasi', 944),\n",
       " ('sangat', 941),\n",
       " ('mudah', 781),\n",
       " ('bantu', 622),\n",
       " ('bagus', 519),\n",
       " ('link', 513),\n",
       " ('aja', 506),\n",
       " ('linkaja', 470),\n",
       " ('bayar', 440),\n",
       " ('transaksi', 434),\n",
       " ('guna', 356),\n",
       " ('nya', 335),\n",
       " ('banget', 291),\n",
       " ('mantap', 216),\n",
       " ('baik', 207)]"
      ]
     },
     "execution_count": 139,
     "metadata": {},
     "output_type": "execute_result"
    }
   ],
   "source": [
    "common_linkaja_pos = collections.Counter(cw_linkaja_pos)\n",
    "\n",
    "common_linkaja_pos.most_common(15)"
   ]
  },
  {
   "cell_type": "code",
   "execution_count": 140,
   "metadata": {},
   "outputs": [],
   "source": [
    "linkaja_pos = pd.DataFrame(common_linkaja_pos.most_common(15),\n",
    "                             columns=['words', 'count'])"
   ]
  },
  {
   "cell_type": "code",
   "execution_count": 141,
   "metadata": {},
   "outputs": [
    {
     "data": {
      "image/png": "[encoded data removed]",
      "text/plain": [
       "<Figure size 576x576 with 1 Axes>"
      ]
     },
     "metadata": {
      "needs_background": "light"
     },
     "output_type": "display_data"
    }
   ],
   "source": [
    "fig, ax = plt.subplots(figsize=(8, 8))\n",
    "\n",
    "# Plot horizontal bar graph\n",
    "linkaja_neg.sort_values(by='count').plot.barh(x='words',\n",
    "                      y='count',\n",
    "                      ax=ax,\n",
    "                      color=\"orangered\")\n",
    "\n",
    "ax.set_title(\"Common Words in Negative Link Aja Reviews\")\n",
    "\n",
    "plt.show()"
   ]
  },
  {
   "cell_type": "code",
   "execution_count": 142,
   "metadata": {},
   "outputs": [
    {
     "data": {
      "image/png": "[encoded data removed]",
      "text/plain": [
       "<Figure size 576x576 with 1 Axes>"
      ]
     },
     "metadata": {
      "needs_background": "light"
     },
     "output_type": "display_data"
    }
   ],
   "source": [
    "fig2, ax = plt.subplots(figsize=(8, 8))\n",
    "\n",
    "# Plot horizontal bar graph\n",
    "linkaja_pos.sort_values(by='count').plot.barh(x='words',\n",
    "                      y='count',\n",
    "                      ax=ax,\n",
    "                      color=\"green\")\n",
    "\n",
    "ax.set_title(\"Common Words in Positive Link Aja Reviews\")\n",
    "\n",
    "plt.show()"
   ]
  }
 ],
 "metadata": {
  "kernelspec": {
   "display_name": "Python 3",
   "language": "python",
   "name": "python3"
  },
  "language_info": {
   "codemirror_mode": {
    "name": "ipython",
    "version": 3
   },
   "file_extension": ".py",
   "mimetype": "text/x-python",
   "name": "python",
   "nbconvert_exporter": "python",
   "pygments_lexer": "ipython3",
   "version": "3.8.5"
  }
 },
 "nbformat": 4,
 "nbformat_minor": 4
}
